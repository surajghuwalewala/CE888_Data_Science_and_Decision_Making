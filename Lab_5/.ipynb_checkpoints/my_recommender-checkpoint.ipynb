{
 "cells": [
  {
   "cell_type": "markdown",
   "metadata": {
    "colab_type": "text",
    "id": "view-in-github"
   },
   "source": [
    "<a href=\"https://colab.research.google.com/github/surajghuwalewala/CE888_Data_Science_and_Decision_Making/blob/master/Lab_5/my_recommender.ipynb\" target=\"_parent\"><img src=\"https://colab.research.google.com/assets/colab-badge.svg\" alt=\"Open In Colab\"/></a>"
   ]
  },
  {
   "cell_type": "code",
   "execution_count": 28,
   "metadata": {
    "colab": {},
    "colab_type": "code",
    "id": "1hvgnA8S3lwe"
   },
   "outputs": [],
   "source": [
    "import numpy as np\n",
    "import pandas as pd"
   ]
  },
  {
   "cell_type": "code",
   "execution_count": 29,
   "metadata": {
    "colab": {
     "base_uri": "https://localhost:8080/",
     "height": 34
    },
    "colab_type": "code",
    "id": "L57O5Ed_4AcM",
    "outputId": "06cdf333-48bf-4e32-c93c-5c6f9e90a110"
   },
   "outputs": [
    {
     "data": {
      "text/plain": [
       "(24982, 101)"
      ]
     },
     "execution_count": 29,
     "metadata": {},
     "output_type": "execute_result"
    }
   ],
   "source": [
    "df = pd.read_csv(\"https://raw.githubusercontent.com/albanda/CE888/master/lab5-recommender/jester-data-1.csv\")\n",
    "df.shape"
   ]
  },
  {
   "cell_type": "code",
   "execution_count": null,
   "metadata": {
    "colab": {},
    "colab_type": "code",
    "id": "JwS0hOLw6tt1"
   },
   "outputs": [],
   "source": []
  },
  {
   "cell_type": "code",
   "execution_count": 30,
   "metadata": {
    "colab": {},
    "colab_type": "code",
    "id": "be7BfrHT4dZE"
   },
   "outputs": [],
   "source": [
    "def replace(orig, percentage=0.1):\n",
    "  \"\"\"\n",
    "  Replaces 'percentage'% of the original values in 'orig' with 99's\n",
    "  :param orig: original data array\n",
    "  :param percentage: percentage of values to replace (0<percentage<1)\n",
    "  \"\"\"\n",
    "  new_data = orig.copy()\n",
    "  rated = np.where(orig!=99)\n",
    "  n_rated = len(rated[0])\n",
    "  idx = np.random.choice(n_rated, size=int(percentage*n_rated), replace=False)\n",
    "  new_data[rated[0][idx], rated[1][idx]] = 99\n",
    "  return new_data, (rated[0][idx], rated[1][idx])"
   ]
  },
  {
   "cell_type": "code",
   "execution_count": 31,
   "metadata": {
    "colab": {},
    "colab_type": "code",
    "id": "wPqKA9eS6ZcV"
   },
   "outputs": [],
   "source": [
    "val_set, idx = replace(df.values, 0.1)"
   ]
  },
  {
   "cell_type": "code",
   "execution_count": 32,
   "metadata": {
    "colab": {},
    "colab_type": "code",
    "id": "lc_dt_ox683M"
   },
   "outputs": [],
   "source": [
    "def latentFactorModelling(data, n_latent_factors = 2, alpha = 0.0001, iterations=300):\n",
    "\n",
    "  user_ratings = data.values\n",
    "  # Initialise as random values\n",
    "  latent_user_preferences = np.random.random((user_ratings.shape[0], n_latent_factors))\n",
    "  latent_item_features = np.random.random((user_ratings.shape[1], n_latent_factors))\n",
    "  \n",
    "  \n",
    "  def predict_rating(user_id, item_id):\n",
    "    \"\"\" Predict a rating given a user_id and an item_id.\n",
    "    \"\"\"\n",
    "    user_preference = latent_user_preferences[user_id]\n",
    "    item_preference = latent_item_features[item_id]\n",
    "    return user_preference.dot(item_preference)\n",
    "\n",
    "\n",
    "  def train(user_id, item_id, rating, alpha = alpha):\n",
    "      \n",
    "    #print item_id\n",
    "    prediction_rating = predict_rating(user_id, item_id)\n",
    "    err =  prediction_rating - rating\n",
    "    #print err\n",
    "    user_pref_values = latent_user_preferences[user_id][:]\n",
    "    latent_user_preferences[user_id] -= alpha * err * latent_item_features[item_id]\n",
    "    latent_item_features[item_id] -= alpha * err * user_pref_values\n",
    "    return err\n",
    "      \n",
    "\n",
    "  def sgd(iterations=iterations):\n",
    "    \"\"\" Iterate over all users and all items and train for \n",
    "        a certain number of iterations\n",
    "    \"\"\"\n",
    "    for iteration in range(iterations):\n",
    "        error = []\n",
    "        for user_id in range(latent_user_preferences.shape[0]):\n",
    "            for item_id in range(latent_item_features.shape[0]):\n",
    "                rating = user_ratings[user_id][item_id]\n",
    "                if (rating != 99.0):\n",
    "                    err = train(user_id, item_id, rating)\n",
    "                    error.append(err)\n",
    "        mse = (np.array(error) ** 2).mean()   \n",
    "        if (iteration % 10) == 0:\n",
    "            print(mse)\n",
    "\n",
    "  sgd(iterations)\n",
    "    \n",
    "  np.save(\"{}_latentFactors_{}_iters.npy\".format(n_latent_factors, iterations), [latent_user_preferences, latent_item_features ])\n",
    "  return latent_user_preferences, latent_item_features"
   ]
  },
  {
   "cell_type": "code",
   "execution_count": null,
   "metadata": {
    "colab": {},
    "colab_type": "code",
    "id": "knwqC4v3Qsy1"
   },
   "outputs": [],
   "source": []
  },
  {
   "cell_type": "code",
   "execution_count": 33,
   "metadata": {
    "colab": {
     "base_uri": "https://localhost:8080/",
     "height": 102
    },
    "colab_type": "code",
    "id": "GGclr6XZ-OXz",
    "outputId": "ef2f1a5c-b22f-4fdb-8c5a-38d9442c27f1"
   },
   "outputs": [],
   "source": [
    "# latent_user_preferences, latent_item_features = latentFactorModelling(df, iterations=50,  n_latent_factors = 3)\n",
    "latent_user_preferences, latent_item_features = np.load(\"3_latentFactors_50_iters.npy\", allow_pickle=True)"
   ]
  },
  {
   "cell_type": "code",
   "execution_count": 34,
   "metadata": {},
   "outputs": [
    {
     "data": {
      "text/plain": [
       "(array([[ 0.9966265 ,  0.79772757,  0.3976957 ],\n",
       "        [ 0.93894214,  0.98346082, -0.66478696],\n",
       "        [ 0.1875422 ,  0.71957662,  0.24075053],\n",
       "        ...,\n",
       "        [ 0.12617664,  0.21504443,  0.52301555],\n",
       "        [ 0.2840791 ,  0.18813836,  0.37909168],\n",
       "        [ 0.45729045,  0.91813345,  0.34218359]]),\n",
       " array([[ 4.50287036e+01,  3.91678737e+01,  4.72322628e+01],\n",
       "        [ 9.58546685e-01,  4.04962612e+00, -3.15922494e+00],\n",
       "        [ 2.43935256e-01,  4.50750678e+00, -3.83111835e+00],\n",
       "        [ 1.19163943e+00,  4.09585220e+00, -4.36313636e+00],\n",
       "        [ 4.94022849e-01,  3.76141790e+00, -5.99534822e+00],\n",
       "        [ 4.18020259e-01,  3.31445447e+00, -2.82621952e+00],\n",
       "        [ 4.95802147e-01,  5.72641383e+00, -3.46788928e+00],\n",
       "        [ 2.29555855e-01,  2.57145801e+00, -3.24395668e+00],\n",
       "        [ 8.34511413e-02,  1.33557372e+00, -2.24289178e+00],\n",
       "        [ 6.18734743e-01,  4.07530928e+00, -5.26994597e+00],\n",
       "        [ 1.26633272e+00,  4.16087433e+00, -3.16145080e+00],\n",
       "        [ 1.21799740e+00,  5.25854670e+00, -3.31779455e+00],\n",
       "        [ 2.53618556e-01,  6.05914097e+00, -3.59490826e+00],\n",
       "        [-8.71748324e-01,  1.23422040e+00, -3.22672357e+00],\n",
       "        [-1.32523465e-01,  6.22890797e+00, -3.47910910e+00],\n",
       "        [-5.37633186e-01,  5.60130050e-01, -2.85334595e+00],\n",
       "        [-8.44247307e-01, -1.22871764e-01, -4.08151742e+00],\n",
       "        [-5.05843472e-01,  1.76806737e+00, -2.93102489e+00],\n",
       "        [-2.57682772e-01,  2.17414064e+00, -2.87929973e+00],\n",
       "        [ 1.45580772e-01,  3.43855630e+00, -3.11968950e+00],\n",
       "        [-5.15934646e-01,  3.12371670e+00, -4.08062226e+00],\n",
       "        [ 5.27276082e-01,  6.05762251e+00, -2.65701026e+00],\n",
       "        [ 5.14724969e-01,  5.32148695e+00, -4.05410199e+00],\n",
       "        [ 5.22117152e-01,  4.49876386e+00, -4.42953938e+00],\n",
       "        [ 5.38183306e-01,  3.16550461e+00, -5.88093149e+00],\n",
       "        [ 2.08005393e-02,  5.22815304e+00, -4.21823075e+00],\n",
       "        [-1.46707791e-01,  6.02404947e+00, -3.46770021e+00],\n",
       "        [ 1.07703311e+00,  5.64062288e+00, -1.16822358e+00],\n",
       "        [ 3.82700571e-01,  5.51841987e+00, -3.20424776e+00],\n",
       "        [ 5.17854747e-01,  5.59842910e+00, -8.57759940e-01],\n",
       "        [ 6.13714139e-01,  4.62678076e+00, -5.63908291e+00],\n",
       "        [ 4.31788295e-01,  5.87819733e+00, -2.32024792e+00],\n",
       "        [ 8.60511335e-01,  5.72960638e+00, -1.09178273e+00],\n",
       "        [ 3.37849139e-01,  3.79002560e+00, -5.83283577e+00],\n",
       "        [ 6.16916413e-02,  5.47978678e+00, -3.65270608e+00],\n",
       "        [ 4.74630420e-01,  6.04580215e+00, -1.23503104e+00],\n",
       "        [ 1.21136899e+00,  5.35145018e+00, -8.46305079e-01],\n",
       "        [ 2.10362946e-01,  3.04903277e+00, -5.05755137e+00],\n",
       "        [ 7.91653684e-01,  4.98192222e+00, -3.48923378e+00],\n",
       "        [ 2.32034034e-01,  5.71047876e+00, -3.81324039e+00],\n",
       "        [ 7.48604850e-01,  5.18124665e+00, -4.04299387e+00],\n",
       "        [ 7.61999117e-01,  4.34930082e+00, -5.39098567e+00],\n",
       "        [ 3.05729668e-01,  6.01684361e+00, -2.74996080e+00],\n",
       "        [ 6.21484394e-01,  3.68397317e+00, -5.30967260e+00],\n",
       "        [ 3.95114488e-01,  1.89744488e+00, -5.24662620e+00],\n",
       "        [ 5.29621282e-01,  5.24530857e+00, -3.74036418e+00],\n",
       "        [ 4.90974642e-01,  5.31065707e+00, -3.01248520e+00],\n",
       "        [ 2.01147916e-01,  5.70283385e+00, -3.16940621e+00],\n",
       "        [ 5.26719044e-01,  5.53021641e+00, -2.77298943e+00],\n",
       "        [ 6.60912064e-01,  5.98110382e+00, -1.75310372e+00],\n",
       "        [ 1.13600871e+00,  5.68054799e+00, -4.77170506e-01],\n",
       "        [ 6.20722358e-02,  4.92927549e+00, -5.71126198e+00],\n",
       "        [-2.40697795e-02,  5.34151798e+00, -5.13388233e+00],\n",
       "        [ 6.21976183e-01,  5.86016758e+00, -1.36645359e+00],\n",
       "        [ 5.29622042e-01,  6.13505996e+00, -1.83142751e+00],\n",
       "        [ 8.29007783e-01,  4.35018638e+00, -4.01540050e+00],\n",
       "        [ 3.55309601e-02,  5.88143068e+00, -2.67838741e+00],\n",
       "        [ 7.70030151e-01,  2.19014648e+00, -5.71844096e+00],\n",
       "        [-7.99431140e-01,  1.35408293e+00, -6.04339707e+00],\n",
       "        [ 2.39370241e-01,  4.42950467e+00, -5.29514515e+00],\n",
       "        [ 9.80263713e-01,  3.10525685e+00, -4.38649554e+00],\n",
       "        [ 4.02931742e-01,  6.20311804e+00, -2.31508912e+00],\n",
       "        [ 6.84178610e-01,  6.03385571e+00, -1.57382106e+00],\n",
       "        [-1.88367989e-01,  4.99187737e+00, -4.23725112e+00],\n",
       "        [ 6.13249810e-01,  3.60703234e+00, -4.93252639e+00],\n",
       "        [ 1.95724036e-01,  6.02747545e+00, -2.10576045e+00],\n",
       "        [ 4.72500348e-01,  5.87718868e+00, -1.94695667e+00],\n",
       "        [ 8.12265121e-01,  3.63326955e+00, -5.39562184e+00],\n",
       "        [ 4.61477188e-01,  5.78076958e+00, -1.69897534e+00],\n",
       "        [ 5.56672718e-01,  5.98996617e+00, -1.99214043e+00],\n",
       "        [ 1.94685801e-01,  5.10016913e+00, -4.14032339e+00],\n",
       "        [-5.32123229e-01,  3.88994089e+00, -4.24468625e+00],\n",
       "        [ 1.39929914e+00,  5.19889829e+00, -2.55278710e+00],\n",
       "        [ 1.24359043e+00,  4.86730602e+00, -4.48976381e+00],\n",
       "        [ 5.21870565e-01,  3.24246437e+00, -5.65248957e+00],\n",
       "        [ 1.13351456e+00,  3.43766886e+00, -4.76678826e+00],\n",
       "        [ 1.47242989e+00,  4.74775646e+00, -2.57519681e+00],\n",
       "        [ 1.31355549e+00,  4.33792339e+00, -4.47818976e+00],\n",
       "        [ 1.63616377e+00,  4.91986689e+00, -3.96702642e+00],\n",
       "        [ 9.31084287e-01,  4.48332137e+00, -5.02647295e+00],\n",
       "        [ 9.28338304e-01,  5.28570274e+00, -4.41407134e+00],\n",
       "        [ 1.33751363e+00,  4.79897570e+00, -3.34901617e+00],\n",
       "        [ 1.13384831e+00,  4.46405213e+00, -4.13070338e+00],\n",
       "        [ 1.52180337e+00,  4.83831195e+00, -3.25005414e+00],\n",
       "        [ 9.76647831e-01,  4.50759502e+00, -4.33434313e+00],\n",
       "        [ 7.89393186e-01,  5.01655216e+00, -4.39380168e+00],\n",
       "        [ 1.11168514e+00,  3.42985150e+00, -3.90916227e+00],\n",
       "        [ 1.01059259e+00,  4.66934555e+00, -2.88522817e+00],\n",
       "        [ 1.56415754e+00,  4.45040563e+00, -2.90681098e+00],\n",
       "        [ 1.45263415e+00,  4.98663481e+00, -1.34270680e+00],\n",
       "        [ 7.20099692e-01,  4.64310038e+00, -4.24812513e+00],\n",
       "        [ 1.32223671e+00,  4.46767927e+00, -2.75730603e+00],\n",
       "        [ 9.16396064e-01,  4.65779510e+00, -3.75034073e+00],\n",
       "        [ 1.27548267e+00,  4.93273518e+00, -2.51714806e+00],\n",
       "        [ 1.36771700e+00,  4.08246407e+00, -3.67905146e+00],\n",
       "        [ 9.68591952e-01,  4.10245720e+00, -3.42589987e+00],\n",
       "        [ 8.75091262e-01,  4.66322936e+00, -3.26577399e+00],\n",
       "        [ 9.72823541e-01,  4.42663337e+00, -2.88410068e+00],\n",
       "        [ 4.74006174e-01,  4.71395681e+00, -3.71964622e+00],\n",
       "        [ 4.24420285e-01,  4.18322955e+00, -4.47243025e+00],\n",
       "        [ 9.26448120e-01,  5.07586726e+00, -3.91836031e+00]]))"
      ]
     },
     "execution_count": 34,
     "metadata": {},
     "output_type": "execute_result"
    }
   ],
   "source": [
    "latent_user_preferences, latent_item_features"
   ]
  },
  {
   "cell_type": "code",
   "execution_count": null,
   "metadata": {},
   "outputs": [],
   "source": []
  },
  {
   "cell_type": "code",
   "execution_count": null,
   "metadata": {
    "colab": {},
    "colab_type": "code",
    "id": "WOtcmn91UaLo"
   },
   "outputs": [],
   "source": []
  },
  {
   "cell_type": "code",
   "execution_count": null,
   "metadata": {
    "colab": {},
    "colab_type": "code",
    "id": "UNk-uvmSVRXo"
   },
   "outputs": [],
   "source": []
  },
  {
   "cell_type": "code",
   "execution_count": 35,
   "metadata": {
    "colab": {},
    "colab_type": "code",
    "id": "XdFgwe9q6_rA"
   },
   "outputs": [],
   "source": [
    "## Train predictions\n",
    "predictions = latent_user_preferences.dot(latent_item_features.T)"
   ]
  },
  {
   "cell_type": "code",
   "execution_count": 36,
   "metadata": {
    "colab": {},
    "colab_type": "code",
    "id": "G6AFbo9jVuZg"
   },
   "outputs": [],
   "source": [
    "def calculate_mse(orig, pred):\n",
    "  error = []\n",
    "  for user_id in range(orig.shape[0]):\n",
    "    for item_id in range(orig.shape[1]):\n",
    "      user_rating = orig[user_id][item_id]\n",
    "      if(user_rating!=99.0):\n",
    "        err = pred[user_id][item_id] - user_rating\n",
    "        error.append(err)\n",
    "\n",
    "  mse = (np.array(error) ** 2).mean() \n",
    "\n",
    "  return mse"
   ]
  },
  {
   "cell_type": "code",
   "execution_count": 37,
   "metadata": {
    "colab": {
     "base_uri": "https://localhost:8080/",
     "height": 34
    },
    "colab_type": "code",
    "id": "ytzzoWuYXm17",
    "outputId": "bd68cb48-4518-4773-ba64-18c96627c9da"
   },
   "outputs": [
    {
     "data": {
      "text/plain": [
       "17.79954773195226"
      ]
     },
     "execution_count": 37,
     "metadata": {},
     "output_type": "execute_result"
    }
   ],
   "source": [
    "## Mean Square Error\n",
    "\n",
    "mse = calculate_mse(df.values, predictions)\n",
    "\n",
    "mse"
   ]
  },
  {
   "cell_type": "code",
   "execution_count": 38,
   "metadata": {
    "colab": {
     "base_uri": "https://localhost:8080/",
     "height": 34
    },
    "colab_type": "code",
    "id": "gE94DQawW0tt",
    "outputId": "abcaee94-083a-4418-85b7-8971662bd801"
   },
   "outputs": [
    {
     "data": {
      "text/plain": [
       "(24982, 101)"
      ]
     },
     "execution_count": 38,
     "metadata": {},
     "output_type": "execute_result"
    }
   ],
   "source": [
    "df.values.shape"
   ]
  },
  {
   "cell_type": "code",
   "execution_count": 39,
   "metadata": {
    "colab": {
     "base_uri": "https://localhost:8080/",
     "height": 34
    },
    "colab_type": "code",
    "id": "WIVHvH95H4wg",
    "outputId": "000b3663-2a1d-4342-d3b5-8794b85c7694"
   },
   "outputs": [
    {
     "data": {
      "text/plain": [
       "1.7821700729109426"
      ]
     },
     "execution_count": 39,
     "metadata": {},
     "output_type": "execute_result"
    }
   ],
   "source": [
    "## Validation predictions\n",
    "\n",
    "val_pred = val_set.copy()\n",
    "val_error = []\n",
    "for user_id in range(latent_user_preferences.shape[0]):\n",
    "    for item_id in range(latent_item_features.shape[0]):\n",
    "        rating = val_set[user_id][item_id]\n",
    "        if (rating == 99.0):\n",
    "            prediction_rating = predictions[user_id][item_id]\n",
    "            val_pred[user_id][item_id] = prediction_rating\n",
    "\n",
    "val_mse = calculate_mse(df.values, val_pred)\n",
    "\n",
    "val_mse\n"
   ]
  },
  {
   "cell_type": "code",
   "execution_count": 40,
   "metadata": {
    "colab": {
     "base_uri": "https://localhost:8080/",
     "height": 34
    },
    "colab_type": "code",
    "id": "0X61ocS6H41M",
    "outputId": "fef765a2-4365-4c86-a545-bf1e33968f49"
   },
   "outputs": [
    {
     "data": {
      "text/plain": [
       "1.7821700729109426"
      ]
     },
     "execution_count": 40,
     "metadata": {},
     "output_type": "execute_result"
    }
   ],
   "source": [
    "## Test Pred\n",
    "test_pred = df.values.copy()\n",
    "for user_id in range(latent_user_preferences.shape[0]):\n",
    "    for item_id in range(latent_item_features.shape[0]):\n",
    "        rating = val_set[user_id][item_id]\n",
    "        if (rating == 99.0):\n",
    "            prediction_rating = predictions[user_id][item_id]\n",
    "            test_pred[user_id][item_id] = prediction_rating\n",
    "\n",
    "test_mse = calculate_mse(df.values, test_pred)\n",
    "\n",
    "test_mse"
   ]
  },
  {
   "cell_type": "code",
   "execution_count": 41,
   "metadata": {
    "colab": {},
    "colab_type": "code",
    "id": "O1ZOShCwH4zN"
   },
   "outputs": [],
   "source": [
    "# values = [zip(df.values[i], predictions[i], val_pred[i], test_pred[i]) for i in range(predictions.shape[0])]\n",
    "# comparison_data = pd.DataFrame(values)\n",
    "# comparison_data.columns = df.columns\n",
    "\n"
   ]
  },
  {
   "cell_type": "code",
   "execution_count": null,
   "metadata": {
    "colab": {},
    "colab_type": "code",
    "id": "CTgce-oVH4t2"
   },
   "outputs": [],
   "source": []
  },
  {
   "cell_type": "code",
   "execution_count": null,
   "metadata": {},
   "outputs": [],
   "source": []
  },
  {
   "cell_type": "code",
   "execution_count": null,
   "metadata": {},
   "outputs": [],
   "source": []
  },
  {
   "cell_type": "code",
   "execution_count": null,
   "metadata": {},
   "outputs": [],
   "source": []
  },
  {
   "cell_type": "code",
   "execution_count": null,
   "metadata": {},
   "outputs": [],
   "source": []
  },
  {
   "cell_type": "code",
   "execution_count": null,
   "metadata": {},
   "outputs": [],
   "source": []
  },
  {
   "cell_type": "code",
   "execution_count": null,
   "metadata": {},
   "outputs": [],
   "source": []
  }
 ],
 "metadata": {
  "colab": {
   "authorship_tag": "ABX9TyOta/2Nr6qrXdtxJisvENyo",
   "include_colab_link": true,
   "machine_shape": "hm",
   "name": "Untitled1.ipynb",
   "provenance": [],
   "toc_visible": true
  },
  "kernelspec": {
   "display_name": "Python 3",
   "language": "python",
   "name": "python3"
  },
  "language_info": {
   "codemirror_mode": {
    "name": "ipython",
    "version": 3
   },
   "file_extension": ".py",
   "mimetype": "text/x-python",
   "name": "python",
   "nbconvert_exporter": "python",
   "pygments_lexer": "ipython3",
   "version": "3.6.9"
  }
 },
 "nbformat": 4,
 "nbformat_minor": 1
}
