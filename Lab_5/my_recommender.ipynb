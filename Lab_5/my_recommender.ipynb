{
  "nbformat": 4,
  "nbformat_minor": 0,
  "metadata": {
    "colab": {
      "name": "Untitled1.ipynb",
      "provenance": [],
      "toc_visible": true,
      "machine_shape": "hm",
      "authorship_tag": "ABX9TyOta/2Nr6qrXdtxJisvENyo",
      "include_colab_link": true
    },
    "kernelspec": {
      "name": "python3",
      "display_name": "Python 3"
    }
  },
  "cells": [
    {
      "cell_type": "markdown",
      "metadata": {
        "id": "view-in-github",
        "colab_type": "text"
      },
      "source": [
        "<a href=\"https://colab.research.google.com/github/surajghuwalewala/CE888_Data_Science_and_Decision_Making/blob/master/Lab_5/my_recommender.ipynb\" target=\"_parent\"><img src=\"https://colab.research.google.com/assets/colab-badge.svg\" alt=\"Open In Colab\"/></a>"
      ]
    },
    {
      "cell_type": "code",
      "metadata": {
        "id": "1hvgnA8S3lwe",
        "colab_type": "code",
        "colab": {}
      },
      "source": [
        "import numpy as np\n",
        "import pandas as pd"
      ],
      "execution_count": 0,
      "outputs": []
    },
    {
      "cell_type": "code",
      "metadata": {
        "id": "L57O5Ed_4AcM",
        "colab_type": "code",
        "colab": {
          "base_uri": "https://localhost:8080/",
          "height": 34
        },
        "outputId": "06cdf333-48bf-4e32-c93c-5c6f9e90a110"
      },
      "source": [
        "df = pd.read_csv(\"https://raw.githubusercontent.com/albanda/CE888/master/lab5-recommender/jester-data-1.csv\")\n",
        "df.shape"
      ],
      "execution_count": 2,
      "outputs": [
        {
          "output_type": "execute_result",
          "data": {
            "text/plain": [
              "(24982, 101)"
            ]
          },
          "metadata": {
            "tags": []
          },
          "execution_count": 2
        }
      ]
    },
    {
      "cell_type": "code",
      "metadata": {
        "id": "JwS0hOLw6tt1",
        "colab_type": "code",
        "colab": {}
      },
      "source": [
        ""
      ],
      "execution_count": 0,
      "outputs": []
    },
    {
      "cell_type": "code",
      "metadata": {
        "id": "be7BfrHT4dZE",
        "colab_type": "code",
        "colab": {}
      },
      "source": [
        "def replace(orig, percentage=0.1):\n",
        "  \"\"\"\n",
        "  Replaces 'percentage'% of the original values in 'orig' with 99's\n",
        "  :param orig: original data array\n",
        "  :param percentage: percentage of values to replace (0<percentage<1)\n",
        "  \"\"\"\n",
        "  new_data = orig.copy()\n",
        "  rated = np.where(orig!=99)\n",
        "  n_rated = len(rated[0])\n",
        "  idx = np.random.choice(n_rated, size=int(percentage*n_rated), replace=False)\n",
        "  new_data[rated[0][idx], rated[1][idx]] = 99\n",
        "  return new_data, (rated[0][idx], rated[1][idx])"
      ],
      "execution_count": 0,
      "outputs": []
    },
    {
      "cell_type": "code",
      "metadata": {
        "id": "wPqKA9eS6ZcV",
        "colab_type": "code",
        "colab": {}
      },
      "source": [
        "val_set, idx = replace(df.values, 0.1)"
      ],
      "execution_count": 0,
      "outputs": []
    },
    {
      "cell_type": "code",
      "metadata": {
        "id": "lc_dt_ox683M",
        "colab_type": "code",
        "colab": {}
      },
      "source": [
        "def latentFactorModelling(data, n_latent_factors = 2, alpha = 0.0001, iterations=300):\n",
        "\n",
        "  user_ratings = data.values\n",
        "  # Initialise as random values\n",
        "  latent_user_preferences = np.random.random((user_ratings.shape[0], n_latent_factors))\n",
        "  latent_item_features = np.random.random((user_ratings.shape[1], n_latent_factors))\n",
        "  \n",
        "  \n",
        "  def predict_rating(user_id, item_id):\n",
        "    \"\"\" Predict a rating given a user_id and an item_id.\n",
        "    \"\"\"\n",
        "    user_preference = latent_user_preferences[user_id]\n",
        "    item_preference = latent_item_features[item_id]\n",
        "    return user_preference.dot(item_preference)\n",
        "\n",
        "\n",
        "  def train(user_id, item_id, rating, alpha = alpha):\n",
        "      \n",
        "    #print item_id\n",
        "    prediction_rating = predict_rating(user_id, item_id)\n",
        "    err =  prediction_rating - rating\n",
        "    #print err\n",
        "    user_pref_values = latent_user_preferences[user_id][:]\n",
        "    latent_user_preferences[user_id] -= alpha * err * latent_item_features[item_id]\n",
        "    latent_item_features[item_id] -= alpha * err * user_pref_values\n",
        "    return err\n",
        "      \n",
        "\n",
        "  def sgd(iterations=iterations):\n",
        "    \"\"\" Iterate over all users and all items and train for \n",
        "        a certain number of iterations\n",
        "    \"\"\"\n",
        "    for iteration in range(iterations):\n",
        "        error = []\n",
        "        for user_id in range(latent_user_preferences.shape[0]):\n",
        "            for item_id in range(latent_item_features.shape[0]):\n",
        "                rating = user_ratings[user_id][item_id]\n",
        "                if (rating != 99.0):\n",
        "                    err = train(user_id, item_id, rating)\n",
        "                    error.append(err)\n",
        "        mse = (np.array(error) ** 2).mean()   \n",
        "        if (iteration % 10) == 0:\n",
        "            print(mse)\n",
        "\n",
        "  sgd(iterations)\n",
        "\n",
        "  return latent_user_preferences, latent_item_features"
      ],
      "execution_count": 0,
      "outputs": []
    },
    {
      "cell_type": "code",
      "metadata": {
        "id": "knwqC4v3Qsy1",
        "colab_type": "code",
        "colab": {}
      },
      "source": [
        ""
      ],
      "execution_count": 0,
      "outputs": []
    },
    {
      "cell_type": "code",
      "metadata": {
        "id": "GGclr6XZ-OXz",
        "colab_type": "code",
        "colab": {
          "base_uri": "https://localhost:8080/",
          "height": 102
        },
        "outputId": "ef2f1a5c-b22f-4fdb-8c5a-38d9442c27f1"
      },
      "source": [
        "latent_user_preferences, latent_item_features = latentFactorModelling(df, iterations=50,  n_latent_factors = 3)"
      ],
      "execution_count": 7,
      "outputs": [
        {
          "output_type": "stream",
          "text": [
            "51.13575510362541\n",
            "24.60703862199198\n",
            "22.60505706252967\n",
            "18.187468459231138\n",
            "17.97264628688593\n"
          ],
          "name": "stdout"
        }
      ]
    },
    {
      "cell_type": "code",
      "metadata": {
        "id": "WOtcmn91UaLo",
        "colab_type": "code",
        "colab": {}
      },
      "source": [
        "np.save(\"3_latentFactors_50_iters.npy\", [latent_user_preferences, latent_item_features ])"
      ],
      "execution_count": 0,
      "outputs": []
    },
    {
      "cell_type": "code",
      "metadata": {
        "id": "UNk-uvmSVRXo",
        "colab_type": "code",
        "colab": {}
      },
      "source": [
        ""
      ],
      "execution_count": 0,
      "outputs": []
    },
    {
      "cell_type": "code",
      "metadata": {
        "id": "XdFgwe9q6_rA",
        "colab_type": "code",
        "colab": {}
      },
      "source": [
        "## Train predictions\n",
        "predictions = latent_user_preferences.dot(latent_item_features.T)"
      ],
      "execution_count": 0,
      "outputs": []
    },
    {
      "cell_type": "code",
      "metadata": {
        "id": "G6AFbo9jVuZg",
        "colab_type": "code",
        "colab": {}
      },
      "source": [
        "def calculate_mse(orig, pred):\n",
        "  error = []\n",
        "  for user_id in range(orig.shape[0]):\n",
        "    for item_id in range(orig.shape[1]):\n",
        "      user_rating = orig[user_id][item_id]\n",
        "      if(user_rating!=99.0):\n",
        "        err = pred[user_id][item_id] - user_rating\n",
        "        error.append(err)\n",
        "\n",
        "  mse = (np.array(error) ** 2).mean() \n",
        "\n",
        "  return mse"
      ],
      "execution_count": 0,
      "outputs": []
    },
    {
      "cell_type": "code",
      "metadata": {
        "id": "ytzzoWuYXm17",
        "colab_type": "code",
        "colab": {
          "base_uri": "https://localhost:8080/",
          "height": 34
        },
        "outputId": "bd68cb48-4518-4773-ba64-18c96627c9da"
      },
      "source": [
        "## Mean Square Error\n",
        "\n",
        "mse = calculate_mse(df.values, predictions)\n",
        "\n",
        "mse"
      ],
      "execution_count": 26,
      "outputs": [
        {
          "output_type": "execute_result",
          "data": {
            "text/plain": [
              "17.79954773195226"
            ]
          },
          "metadata": {
            "tags": []
          },
          "execution_count": 26
        }
      ]
    },
    {
      "cell_type": "code",
      "metadata": {
        "id": "gE94DQawW0tt",
        "colab_type": "code",
        "colab": {
          "base_uri": "https://localhost:8080/",
          "height": 34
        },
        "outputId": "abcaee94-083a-4418-85b7-8971662bd801"
      },
      "source": [
        "df.values.shape"
      ],
      "execution_count": 22,
      "outputs": [
        {
          "output_type": "execute_result",
          "data": {
            "text/plain": [
              "(24982, 101)"
            ]
          },
          "metadata": {
            "tags": []
          },
          "execution_count": 22
        }
      ]
    },
    {
      "cell_type": "code",
      "metadata": {
        "id": "WIVHvH95H4wg",
        "colab_type": "code",
        "colab": {
          "base_uri": "https://localhost:8080/",
          "height": 34
        },
        "outputId": "000b3663-2a1d-4342-d3b5-8794b85c7694"
      },
      "source": [
        "## Validation predictions\n",
        "\n",
        "val_pred = val_set.copy()\n",
        "val_error = []\n",
        "for user_id in range(latent_user_preferences.shape[0]):\n",
        "  for item_id in range(latent_item_features.shape[0]):\n",
        "    rating = val_set[user_id][item_id]\n",
        "    if (rating == 99.0):\n",
        "      prediction_rating = predictions[user_id][item_id]\n",
        "      val_pred[user_id][item_id] = prediction_rating\n",
        "     \n",
        "val_mse = calculate_mse(df.values, val_pred)\n",
        "\n",
        "val_mse\n"
      ],
      "execution_count": 24,
      "outputs": [
        {
          "output_type": "execute_result",
          "data": {
            "text/plain": [
              "1.7747433986235184"
            ]
          },
          "metadata": {
            "tags": []
          },
          "execution_count": 24
        }
      ]
    },
    {
      "cell_type": "code",
      "metadata": {
        "id": "0X61ocS6H41M",
        "colab_type": "code",
        "colab": {
          "base_uri": "https://localhost:8080/",
          "height": 34
        },
        "outputId": "fef765a2-4365-4c86-a545-bf1e33968f49"
      },
      "source": [
        "## Test Pred\n",
        "test_pred = df.values.copy()\n",
        "for user_id in range(latent_user_preferences.shape[0]):\n",
        "  for item_id in range(latent_item_features.shape[0]):\n",
        "    rating = val_set[user_id][item_id]\n",
        "    if (rating == 99.0):\n",
        "      prediction_rating = predictions[user_id][item_id]\n",
        "      test_pred[user_id][item_id] = prediction_rating\n",
        "\n",
        "test_mse = calculate_mse(df.values, test_pred)\n",
        "\n",
        "test_mse"
      ],
      "execution_count": 27,
      "outputs": [
        {
          "output_type": "execute_result",
          "data": {
            "text/plain": [
              "1.7747433986235184"
            ]
          },
          "metadata": {
            "tags": []
          },
          "execution_count": 27
        }
      ]
    },
    {
      "cell_type": "code",
      "metadata": {
        "id": "O1ZOShCwH4zN",
        "colab_type": "code",
        "colab": {}
      },
      "source": [
        "# values = [zip(df.values[i], predictions[i], val_pred[i], test_pred[i]) for i in range(predictions.shape[0])]\n",
        "# comparison_data = pd.DataFrame(values)\n",
        "# comparison_data.columns = df.columns\n",
        "\n"
      ],
      "execution_count": 0,
      "outputs": []
    },
    {
      "cell_type": "code",
      "metadata": {
        "id": "CTgce-oVH4t2",
        "colab_type": "code",
        "colab": {}
      },
      "source": [
        ""
      ],
      "execution_count": 0,
      "outputs": []
    }
  ]
}