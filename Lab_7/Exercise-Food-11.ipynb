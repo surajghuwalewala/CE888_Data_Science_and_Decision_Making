{
  "nbformat": 4,
  "nbformat_minor": 0,
  "metadata": {
    "colab": {
      "name": "Untitled4.ipynb",
      "provenance": [],
      "authorship_tag": "ABX9TyN4stlI81Jbs3XLBfVHe+cN",
      "include_colab_link": true
    },
    "kernelspec": {
      "name": "python3",
      "display_name": "Python 3"
    },
    "accelerator": "GPU"
  },
  "cells": [
    {
      "cell_type": "markdown",
      "metadata": {
        "id": "view-in-github",
        "colab_type": "text"
      },
      "source": [
        "<a href=\"https://colab.research.google.com/github/surajghuwalewala/CE888_Data_Science_and_Decision_Making/blob/master/Lab_7/Exercise-Food-11.ipynb\" target=\"_parent\"><img src=\"https://colab.research.google.com/assets/colab-badge.svg\" alt=\"Open In Colab\"/></a>"
      ]
    },
    {
      "cell_type": "markdown",
      "metadata": {
        "id": "mbK1zpE6FviF",
        "colab_type": "text"
      },
      "source": [
        "# CNN implementation on Food-11 Dataset\n",
        "\n",
        "Dataset [link](https://www.kaggle.com/trolukovich/food11-image-dataset)"
      ]
    },
    {
      "cell_type": "code",
      "metadata": {
        "id": "GO_I4MuhGb0G",
        "colab_type": "code",
        "outputId": "e3446bef-bb8b-457f-c914-f36bcb37fc40",
        "colab": {
          "base_uri": "https://localhost:8080/",
          "height": 68
        }
      },
      "source": [
        "import os\n",
        "os.environ['KAGGLE_USERNAME'] = \"surajghuwalewala\" # username from the json file\n",
        "os.environ['KAGGLE_KEY'] = \"c14ff4f2803c1ffb349c4b9e1a57020b\" # key from the json file\n",
        "DOWNLOAD_DATA = True\n",
        "\n",
        "if DOWNLOAD_DATA:\n",
        "    !kaggle datasets download -d trolukovich/food11-image-dataset # api copied from kaggle\n",
        "    !unzip -qq /content/food11-image-dataset.zip  ## -qq for no verbose"
      ],
      "execution_count": 1,
      "outputs": [
        {
          "output_type": "stream",
          "text": [
            "Downloading food11-image-dataset.zip to /content\n",
            " 99% 1.07G/1.08G [00:16<00:00, 46.1MB/s]\n",
            "100% 1.08G/1.08G [00:16<00:00, 70.1MB/s]\n"
          ],
          "name": "stdout"
        }
      ]
    },
    {
      "cell_type": "code",
      "metadata": {
        "id": "sfsi064YIVdv",
        "colab_type": "code",
        "colab": {}
      },
      "source": [
        "train_dir = '/content/training/'\n",
        "test_dir = '/content/evaluation/'\n",
        "val_dir = '/content/validation/'\n",
        "\n"
      ],
      "execution_count": 0,
      "outputs": []
    },
    {
      "cell_type": "code",
      "metadata": {
        "id": "0yNAMSczGwvb",
        "colab_type": "code",
        "outputId": "e23a3209-2671-4b17-eeed-e9949c70b805",
        "colab": {
          "base_uri": "https://localhost:8080/",
          "height": 68
        }
      },
      "source": [
        "from keras.preprocessing.image import ImageDataGenerator\n",
        "\n",
        "datagen = ImageDataGenerator(rescale=1./255)\n",
        "\n",
        "IMG_SIZE = 56\n",
        "\n",
        "train_generator = datagen.flow_from_directory(train_dir,\n",
        "                                                    target_size=(IMG_SIZE, IMG_SIZE), \n",
        "                                                    batch_size=100,\n",
        "                                                    class_mode='categorical')\n",
        "\n",
        "validation_generator = datagen.flow_from_directory(val_dir,\n",
        "                                                        target_size=(IMG_SIZE, IMG_SIZE),\n",
        "                                                        batch_size=100,\n",
        "                                                        class_mode='categorical')\n",
        "\n",
        "test_generator = datagen.flow_from_directory(test_dir,\n",
        "                                                    target_size=(IMG_SIZE, IMG_SIZE),\n",
        "                                                    batch_size=100,\n",
        "                                                    class_mode='categorical')\n"
      ],
      "execution_count": 0,
      "outputs": [
        {
          "output_type": "stream",
          "text": [
            "Found 9866 images belonging to 11 classes.\n",
            "Found 3430 images belonging to 11 classes.\n",
            "Found 3347 images belonging to 11 classes.\n"
          ],
          "name": "stdout"
        }
      ]
    },
    {
      "cell_type": "code",
      "metadata": {
        "id": "MZhxj1DTKXiv",
        "colab_type": "code",
        "outputId": "65fcf920-8712-4552-a14e-0a02088cd5ee",
        "colab": {
          "base_uri": "https://localhost:8080/",
          "height": 697
        }
      },
      "source": [
        "from keras import layers\n",
        "from keras import models\n",
        "from keras.layers import BatchNormalization, Activation\n",
        "\n",
        "\n",
        "\n",
        "model = models.Sequential()\n",
        "model.add(layers.Conv2D(32, (3, 3), input_shape=(IMG_SIZE, IMG_SIZE, 3)))\n",
        "model.add(Activation('relu'))\n",
        "model.add(layers.MaxPooling2D((2, 2), padding='same'))\n",
        "model.add(layers.Dropout(0.25))\n",
        "\n",
        "model.add(layers.Conv2D(64, (3, 3)))\n",
        "model.add(Activation('relu'))\n",
        "model.add(layers.MaxPooling2D((2, 2), padding='same'))\n",
        "model.add(layers.Dropout(0.25))\n",
        "\n",
        "model.add(layers.Conv2D(256, (3, 3)))\n",
        "model.add(Activation('relu'))\n",
        "model.add(layers.MaxPooling2D((2, 2), padding='same'))\n",
        "model.add(layers.Dropout(0.25))\n",
        "\n",
        "\n",
        "model.add(layers.Flatten())\n",
        "model.add(layers.Dense(512, activation='relu'))\n",
        "model.add(layers.Dense(128, activation='relu'))\n",
        "model.add(layers.Dense(11, activation='softmax'))\n",
        "model.summary()"
      ],
      "execution_count": 0,
      "outputs": [
        {
          "output_type": "stream",
          "text": [
            "Model: \"sequential_18\"\n",
            "_________________________________________________________________\n",
            "Layer (type)                 Output Shape              Param #   \n",
            "=================================================================\n",
            "conv2d_54 (Conv2D)           (None, 54, 54, 32)        896       \n",
            "_________________________________________________________________\n",
            "activation_34 (Activation)   (None, 54, 54, 32)        0         \n",
            "_________________________________________________________________\n",
            "max_pooling2d_47 (MaxPooling (None, 27, 27, 32)        0         \n",
            "_________________________________________________________________\n",
            "dropout_50 (Dropout)         (None, 27, 27, 32)        0         \n",
            "_________________________________________________________________\n",
            "conv2d_55 (Conv2D)           (None, 25, 25, 64)        18496     \n",
            "_________________________________________________________________\n",
            "activation_35 (Activation)   (None, 25, 25, 64)        0         \n",
            "_________________________________________________________________\n",
            "max_pooling2d_48 (MaxPooling (None, 13, 13, 64)        0         \n",
            "_________________________________________________________________\n",
            "dropout_51 (Dropout)         (None, 13, 13, 64)        0         \n",
            "_________________________________________________________________\n",
            "conv2d_56 (Conv2D)           (None, 11, 11, 256)       147712    \n",
            "_________________________________________________________________\n",
            "activation_36 (Activation)   (None, 11, 11, 256)       0         \n",
            "_________________________________________________________________\n",
            "max_pooling2d_49 (MaxPooling (None, 6, 6, 256)         0         \n",
            "_________________________________________________________________\n",
            "dropout_52 (Dropout)         (None, 6, 6, 256)         0         \n",
            "_________________________________________________________________\n",
            "flatten_14 (Flatten)         (None, 9216)              0         \n",
            "_________________________________________________________________\n",
            "dense_34 (Dense)             (None, 512)               4719104   \n",
            "_________________________________________________________________\n",
            "dense_35 (Dense)             (None, 128)               65664     \n",
            "_________________________________________________________________\n",
            "dense_36 (Dense)             (None, 11)                1419      \n",
            "=================================================================\n",
            "Total params: 4,953,291\n",
            "Trainable params: 4,953,291\n",
            "Non-trainable params: 0\n",
            "_________________________________________________________________\n"
          ],
          "name": "stdout"
        }
      ]
    },
    {
      "cell_type": "code",
      "metadata": {
        "id": "g6KO5E4sNcIQ",
        "colab_type": "code",
        "colab": {}
      },
      "source": [
        "model.compile(loss='categorical_crossentropy',\n",
        "              optimizer='adam',\n",
        "              metrics=['acc'])"
      ],
      "execution_count": 0,
      "outputs": []
    },
    {
      "cell_type": "code",
      "metadata": {
        "id": "jWHu1t8CMvz0",
        "colab_type": "code",
        "outputId": "bbf35339-c359-420b-baa7-faa9a9be1f8e",
        "colab": {
          "base_uri": "https://localhost:8080/",
          "height": 187
        }
      },
      "source": [
        "history = model.fit_generator(train_generator,\n",
        "                              steps_per_epoch=30,\n",
        "                              epochs=5,\n",
        "                              validation_data=validation_generator,\n",
        "                              validation_steps=25)"
      ],
      "execution_count": 0,
      "outputs": [
        {
          "output_type": "stream",
          "text": [
            "Epoch 1/5\n",
            "30/30 [==============================] - 27s 885ms/step - loss: 0.6559 - acc: 0.7827 - val_loss: 1.5898 - val_acc: 0.5112\n",
            "Epoch 2/5\n",
            "30/30 [==============================] - 22s 725ms/step - loss: 0.6559 - acc: 0.7763 - val_loss: 1.7158 - val_acc: 0.5004\n",
            "Epoch 3/5\n",
            "30/30 [==============================] - 22s 739ms/step - loss: 0.6869 - acc: 0.7628 - val_loss: 1.5162 - val_acc: 0.5337\n",
            "Epoch 4/5\n",
            "30/30 [==============================] - 23s 750ms/step - loss: 0.5879 - acc: 0.7968 - val_loss: 1.7237 - val_acc: 0.5228\n",
            "Epoch 5/5\n",
            "30/30 [==============================] - 22s 737ms/step - loss: 0.5691 - acc: 0.7940 - val_loss: 1.6607 - val_acc: 0.5309\n"
          ],
          "name": "stdout"
        }
      ]
    },
    {
      "cell_type": "code",
      "metadata": {
        "id": "tumFA08cNX1s",
        "colab_type": "code",
        "outputId": "a788b11f-cd1b-429f-a164-ea9b77703a5b",
        "colab": {
          "base_uri": "https://localhost:8080/",
          "height": 545
        }
      },
      "source": [
        "import matplotlib.pyplot as plt\n",
        "\n",
        "acc = history.history['acc']\n",
        "val_acc = history.history['val_acc']\n",
        "loss = history.history['loss']\n",
        "val_loss = history.history['val_loss']\n",
        "\n",
        "epochs = range(1, len(acc) + 1)\n",
        "\n",
        "plt.plot(epochs, acc, 'bo', label='Training acc')\n",
        "plt.plot(epochs, val_acc, 'b', label='Validation acc')\n",
        "plt.title('Training and validation accuracy')\n",
        "plt.legend()\n",
        "\n",
        "plt.figure()\n",
        "\n",
        "plt.plot(epochs, loss, 'bo', label='Training loss')\n",
        "plt.plot(epochs, val_loss, 'b', label='Validation loss')\n",
        "plt.title('Training and validation loss')\n",
        "plt.legend()\n",
        "\n",
        "plt.show()"
      ],
      "execution_count": 0,
      "outputs": [
        {
          "output_type": "display_data",
          "data": {
            "image/png": "[encoded data removed]",
            "text/plain": [
              "<Figure size 432x288 with 1 Axes>"
            ]
          },
          "metadata": {
            "tags": []
          }
        },
        {
          "output_type": "display_data",
          "data": {
            "image/png": "[encoded data removed]",
            "text/plain": [
              "<Figure size 432x288 with 1 Axes>"
            ]
          },
          "metadata": {
            "tags": []
          }
        }
      ]
    },
    {
      "cell_type": "code",
      "metadata": {
        "id": "lqpoA7XQgGiS",
        "colab_type": "code",
        "colab": {}
      },
      "source": [
        ""
      ],
      "execution_count": 0,
      "outputs": []
    }
  ]
}