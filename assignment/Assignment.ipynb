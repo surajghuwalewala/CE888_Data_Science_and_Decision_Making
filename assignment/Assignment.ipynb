{
  "nbformat": 4,
  "nbformat_minor": 0,
  "metadata": {
    "kernelspec": {
      "display_name": "Python 3",
      "language": "python",
      "name": "python3"
    },
    "language_info": {
      "codemirror_mode": {
        "name": "ipython",
        "version": 3
      },
      "file_extension": ".py",
      "mimetype": "text/x-python",
      "name": "python",
      "nbconvert_exporter": "python",
      "pygments_lexer": "ipython3",
      "version": "3.6.9"
    },
    "colab": {
      "name": "Assignment.ipynb",
      "provenance": [],
      "include_colab_link": true
    }
  },
  "cells": [
    {
      "cell_type": "markdown",
      "metadata": {
        "id": "view-in-github",
        "colab_type": "text"
      },
      "source": [
        "<a href=\"https://colab.research.google.com/github/surajghuwalewala/CE888_Data_Science_and_Decision_Making/blob/master/assignment/Assignment.ipynb\" target=\"_parent\"><img src=\"https://colab.research.google.com/assets/colab-badge.svg\" alt=\"Open In Colab\"/></a>"
      ]
    },
    {
      "cell_type": "code",
      "metadata": {
        "id": "2CA5i9tYPM-O",
        "colab_type": "code",
        "colab": {}
      },
      "source": [
        "import numpy as np\n",
        "import pandas as pd\n"
      ],
      "execution_count": 0,
      "outputs": []
    },
    {
      "cell_type": "markdown",
      "metadata": {
        "id": "1R2wHMDERD4F",
        "colab_type": "text"
      },
      "source": [
        "Loading DecMeg2014 data from kaggle"
      ]
    },
    {
      "cell_type": "code",
      "metadata": {
        "id": "MjkkK406PWHI",
        "colab_type": "code",
        "colab": {
          "base_uri": "https://localhost:8080/",
          "height": 612
        },
        "outputId": "570007b7-056b-453a-cf2f-94364cfbda33"
      },
      "source": [
        "LOAD_DATA = True\n",
        "\n",
        "if (LOAD_DATA):\n",
        "    !kaggle competitions download -c decoding-the-human-brain\n",
        "    !unzip train_01_06.zip \n",
        "    !unzip train_07_12.zip\n",
        "    !unzip train_13_16.zip\n",
        "    !unzip test_17_23.zip\n",
        "    \n",
        "    "
      ],
      "execution_count": 30,
      "outputs": [
        {
          "output_type": "stream",
          "text": [
            "Warning: Your Kaggle API key is readable by other users on this system! To fix this, you can run 'chmod 600 /root/.kaggle/kaggle.json'\n",
            "Warning: Looks like you're using an outdated API Version, please consider updating (server 1.5.6 / client 1.5.4)\n",
            "train_01_06.zip: Skipping, found more recently modified local copy (use --force to force download)\n",
            "test_17_23.zip: Skipping, found more recently modified local copy (use --force to force download)\n",
            "random_submission.csv: Skipping, found more recently modified local copy (use --force to force download)\n",
            "train_07_12.zip: Skipping, found more recently modified local copy (use --force to force download)\n",
            "train_13_16.zip: Skipping, found more recently modified local copy (use --force to force download)\n",
            "Archive:  train_01_06.zip\n",
            "replace data/train_subject01.mat? [y]es, [n]o, [A]ll, [N]one, [r]ename: n\n",
            "replace data/train_subject02.mat? [y]es, [n]o, [A]ll, [N]one, [r]ename: n\n",
            "replace data/train_subject03.mat? [y]es, [n]o, [A]ll, [N]one, [r]ename: A\n",
            "  inflating: data/train_subject03.mat  \n",
            "  inflating: data/train_subject04.mat  n\n",
            "\n",
            "  inflating: data/train_subject05.mat  n\n",
            "\n",
            "  inflating: data/train_subject06.mat  n\n",
            "\n",
            "Archive:  train_07_12.zip\n",
            "replace data/train_subject07.mat? [y]es, [n]o, [A]ll, [N]one, [r]ename: n A\n",
            "replace data/train_subject08.mat? [y]es, [n]o, [A]ll, [N]one, [r]ename: n\n",
            "replace data/train_subject09.mat? [y]es, [n]o, [A]ll, [N]one, [r]ename: n\n",
            "replace data/train_subject10.mat? [y]es, [n]o, [A]ll, [N]one, [r]ename: n\n",
            "replace data/train_subject11.mat? [y]es, [n]o, [A]ll, [N]one, [r]ename: n\n",
            "replace data/train_subject12.mat? [y]es, [n]o, [A]ll, [N]one, [r]ename: n\n",
            "Archive:  train_13_16.zip\n",
            "replace data/train_subject13.mat? [y]es, [n]o, [A]ll, [N]one, [r]ename: N\n",
            "Archive:  test_17_23.zip\n",
            "  inflating: data/test_subject17.mat  \n",
            "  inflating: data/test_subject18.mat  \n",
            "  inflating: data/test_subject19.mat  \n",
            "  inflating: data/test_subject20.mat  \n",
            "  inflating: data/test_subject21.mat  \n",
            "  inflating: data/test_subject22.mat  \n",
            "  inflating: data/test_subject23.mat  \n"
          ],
          "name": "stdout"
        }
      ]
    },
    {
      "cell_type": "code",
      "metadata": {
        "id": "-sOIxz1iQpqm",
        "colab_type": "code",
        "colab": {}
      },
      "source": [
        "## making a list of train and test files\n",
        "\n",
        "import glob \n",
        "\n",
        "train_files = glob.glob(\"data/train*\")\n",
        "test_files = glob.glob(\"data/test*\")\n"
      ],
      "execution_count": 0,
      "outputs": []
    },
    {
      "cell_type": "code",
      "metadata": {
        "id": "ygeNdAgfV9VW",
        "colab_type": "code",
        "colab": {
          "base_uri": "https://localhost:8080/",
          "height": 289
        },
        "outputId": "40775cfa-a69f-40ab-eca9-9c47d7591c2a"
      },
      "source": [
        "# Reading train and test files\n",
        "\n",
        "import scipy.io as sio\n",
        "\n",
        "for file in train_files:\n",
        "    mat = sio.loadmat(file)['X']\n",
        "    print(mat.shape)\n",
        "\n"
      ],
      "execution_count": 35,
      "outputs": [
        {
          "output_type": "stream",
          "text": [
            "(580, 306, 375)\n",
            "(578, 306, 375)\n",
            "(590, 306, 375)\n",
            "(588, 306, 375)\n",
            "(592, 306, 375)\n",
            "(586, 306, 375)\n",
            "(592, 306, 375)\n",
            "(588, 306, 375)\n",
            "(594, 306, 375)\n",
            "(586, 306, 375)\n",
            "(590, 306, 375)\n",
            "(594, 306, 375)\n",
            "(588, 306, 375)\n",
            "(588, 306, 375)\n",
            "(594, 306, 375)\n",
            "(586, 306, 375)\n"
          ],
          "name": "stdout"
        }
      ]
    },
    {
      "cell_type": "code",
      "metadata": {
        "id": "KpV1skCZWhxf",
        "colab_type": "code",
        "colab": {}
      },
      "source": [
        "mat = sio.loadmat(train_files[0])"
      ],
      "execution_count": 0,
      "outputs": []
    },
    {
      "cell_type": "code",
      "metadata": {
        "id": "yH_d5D7zW-ag",
        "colab_type": "code",
        "colab": {}
      },
      "source": [
        ""
      ],
      "execution_count": 0,
      "outputs": []
    },
    {
      "cell_type": "code",
      "metadata": {
        "id": "ReInGTqWXBuO",
        "colab_type": "code",
        "colab": {}
      },
      "source": [
        ""
      ],
      "execution_count": 0,
      "outputs": []
    }
  ]
}