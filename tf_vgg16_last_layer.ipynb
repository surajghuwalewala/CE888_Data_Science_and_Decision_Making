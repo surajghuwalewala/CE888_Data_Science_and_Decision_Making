{
  "nbformat": 4,
  "nbformat_minor": 0,
  "metadata": {
    "colab": {
      "name": "tf_vgg16_last_layer",
      "provenance": [],
      "authorship_tag": "ABX9TyPpN3r4LSin+vEbydYdBvE2",
      "include_colab_link": true
    },
    "kernelspec": {
      "name": "python3",
      "display_name": "Python 3"
    },
    "accelerator": "GPU"
  },
  "cells": [
    {
      "cell_type": "markdown",
      "metadata": {
        "id": "view-in-github",
        "colab_type": "text"
      },
      "source": [
        "<a href=\"https://colab.research.google.com/github/surajghuwalewala/CE888_Data_Science_and_Decision_Making/blob/master/tf_vgg16_last_layer.ipynb\" target=\"_parent\"><img src=\"https://colab.research.google.com/assets/colab-badge.svg\" alt=\"Open In Colab\"/></a>"
      ]
    },
    {
      "cell_type": "code",
      "metadata": {
        "id": "wfdrw7nU5Tky",
        "colab_type": "code",
        "outputId": "21b53643-9283-45aa-d7dc-05ea77dd6a82",
        "colab": {
          "base_uri": "https://localhost:8080/",
          "height": 164
        }
      },
      "source": [
        "!git clone https://github.com/UCSD-AI4H/COVID-CT.git\n",
        "\n",
        "## unzip archives  q - quite, n - don't overwrite\n",
        "!unzip -q -n '/content/COVID-CT/Images-processed/CT_COVID.zip'\n",
        "!unzip -q -n '/content/COVID-CT/Images-processed/CT_NonCOVID.zip'\n"
      ],
      "execution_count": 1,
      "outputs": [
        {
          "output_type": "stream",
          "text": [
            "Cloning into 'COVID-CT'...\n",
            "remote: Enumerating objects: 16, done.\u001b[K\n",
            "remote: Counting objects: 100% (16/16), done.\u001b[K\n",
            "remote: Compressing objects: 100% (16/16), done.\u001b[K\n",
            "remote: Total 5459 (delta 8), reused 0 (delta 0), pack-reused 5443\u001b[K\n",
            "Receiving objects: 100% (5459/5459), 1.09 GiB | 33.55 MiB/s, done.\n",
            "Resolving deltas: 100% (363/363), done.\n",
            "Checking out files: 100% (1048/1048), done.\n"
          ],
          "name": "stdout"
        }
      ]
    },
    {
      "cell_type": "code",
      "metadata": {
        "id": "XxSLqmL95ZCF",
        "colab_type": "code",
        "outputId": "0f2f0597-c4d5-4284-b690-f0912b6f0996",
        "colab": {
          "base_uri": "https://localhost:8080/",
          "height": 54
        }
      },
      "source": [
        "import os\n",
        "path='/content/CT_COVID/'\n",
        "for count, filename in enumerate(os.listdir(path)): \n",
        "    dst =\"covid-\" + str(count) + \".png\"\n",
        "    src =path+ filename \n",
        "    dst =path+ dst \n",
        "        \n",
        "    # rename() function will \n",
        "    # rename all the files \n",
        "    os.rename(src, dst)\n",
        "print(\"Covid P cases: \", count)\n",
        "\n",
        "path='/content/CT_NonCOVID/'\n",
        "for count, filename in enumerate(os.listdir(path)): \n",
        "    dst =\"noncovid-\" + str(count) + \".png\"\n",
        "    src =path+ filename \n",
        "    dst =path+ dst \n",
        "        \n",
        "    # rename() function will \n",
        "    # rename all the files \n",
        "    os.rename(src, dst)\n",
        "\n",
        "print(\"Covid N cases: \", count)\n"
      ],
      "execution_count": 2,
      "outputs": [
        {
          "output_type": "stream",
          "text": [
            "Covid P cases:  348\n",
            "Covid N cases:  396\n"
          ],
          "name": "stdout"
        }
      ]
    },
    {
      "cell_type": "code",
      "metadata": {
        "id": "QyqOdPON5lXH",
        "colab_type": "code",
        "colab": {}
      },
      "source": [
        "base_dir = '/content/covid19_CT'\n",
        "if not os.path.exists(base_dir): os.mkdir(base_dir)"
      ],
      "execution_count": 0,
      "outputs": []
    },
    {
      "cell_type": "code",
      "metadata": {
        "id": "wqAU36Pg5msO",
        "colab_type": "code",
        "colab": {}
      },
      "source": [
        "train_dir = os.path.join(base_dir, 'train')\n",
        "if not os.path.exists(train_dir): os.mkdir(train_dir)\n",
        "\n",
        "validation_dir = os.path.join(base_dir, 'validation')\n",
        "if not os.path.exists(validation_dir):os.mkdir(validation_dir)\n",
        "\n",
        "test_dir = os.path.join(base_dir, 'test')\n",
        "if not os.path.exists(test_dir):os.mkdir(test_dir)"
      ],
      "execution_count": 0,
      "outputs": []
    },
    {
      "cell_type": "code",
      "metadata": {
        "id": "mDStkSIX5oNy",
        "colab_type": "code",
        "colab": {}
      },
      "source": [
        "original_dataset_dir_covid = '/content/CT_COVID/'\n",
        "original_dataset_dir_non_covid = '/content/CT_NonCOVID/'\n",
        "\n",
        "import shutil\n",
        "fnames = ['covid-{}.png'.format(i) for i in range(250)]\n",
        "for fname in fnames:\n",
        "    src = os.path.join(original_dataset_dir_covid, fname)\n",
        "    dst = os.path.join(train_dir, fname)\n",
        "    #print(src,dst)\n",
        "    shutil.copyfile(src, dst)\n",
        "    \n",
        "fnames = ['covid-{}.png'.format(i) for i in range(250, 300)]\n",
        "for fname in fnames:\n",
        "    src = os.path.join(original_dataset_dir_covid, fname)\n",
        "    dst = os.path.join(validation_dir, fname)\n",
        "    shutil.copyfile(src, dst)\n",
        "\n",
        "fnames = ['covid-{}.png'.format(i) for i in range(300, 348)]\n",
        "for fname in fnames:\n",
        "    src = os.path.join(original_dataset_dir_covid, fname)\n",
        "    dst = os.path.join(test_dir, fname)\n",
        "    shutil.copyfile(src, dst)\n"
      ],
      "execution_count": 0,
      "outputs": []
    },
    {
      "cell_type": "code",
      "metadata": {
        "id": "wkBF0wTG5p1k",
        "colab_type": "code",
        "colab": {}
      },
      "source": [
        "fnames = ['noncovid-{}.png'.format(i) for i in range(250)]\n",
        "for fname in fnames:\n",
        "    src = os.path.join(original_dataset_dir_non_covid, fname)\n",
        "    dst = os.path.join(train_dir, fname)\n",
        "    shutil.copyfile(src, dst)\n",
        "\n",
        "fnames = ['noncovid-{}.png'.format(i) for i in range(250, 300)]\n",
        "for fname in fnames:\n",
        "    src = os.path.join(original_dataset_dir_non_covid, fname)\n",
        "    dst = os.path.join(validation_dir, fname)\n",
        "    shutil.copyfile(src, dst)\n",
        "\n",
        "fnames = ['noncovid-{}.png'.format(i) for i in range(300, 348)]\n",
        "for fname in fnames:\n",
        "    src = os.path.join(original_dataset_dir_non_covid, fname)\n",
        "    dst = os.path.join(test_dir, fname)\n",
        "    shutil.copyfile(src, dst)"
      ],
      "execution_count": 0,
      "outputs": []
    },
    {
      "cell_type": "code",
      "metadata": {
        "id": "9qZsbe0y5sCg",
        "colab_type": "code",
        "colab": {}
      },
      "source": [
        "import cv2\n",
        "import numpy as np\n",
        "from random import shuffle\n",
        "\n",
        "IMG_SIZE = 224\n",
        "LR = 1e-4\n"
      ],
      "execution_count": 0,
      "outputs": []
    },
    {
      "cell_type": "code",
      "metadata": {
        "id": "FAnKQFqk56t7",
        "colab_type": "code",
        "colab": {}
      },
      "source": [
        "def label_img(img):\n",
        "    word_label = img.split('-')[0]\n",
        "    if word_label == 'covid': return 1\n",
        "    elif word_label == 'noncovid': return 0"
      ],
      "execution_count": 0,
      "outputs": []
    },
    {
      "cell_type": "code",
      "metadata": {
        "id": "2h0rA-42EeMU",
        "colab_type": "code",
        "colab": {}
      },
      "source": [
        "def createDataSplitSet(datapath):\n",
        "    X=[]\n",
        "    y=[]\n",
        "\n",
        "    for img in os.listdir(datapath):\n",
        "        label = label_img(img)\n",
        "        path = os.path.join(datapath, img)\n",
        "        image = cv2.resize(cv2.imread(path), (IMG_SIZE, IMG_SIZE))\n",
        "        image = cv2.normalize(image, None, alpha=0, beta=1, norm_type=cv2.NORM_MINMAX, dtype=cv2.CV_32F)\n",
        "\n",
        "        X.append(np.array(image))\n",
        "        y.append(label)\n",
        "\n",
        "    return np.array(X), np.array(y)\n"
      ],
      "execution_count": 0,
      "outputs": []
    },
    {
      "cell_type": "code",
      "metadata": {
        "id": "Bgkg6oLOEyDa",
        "colab_type": "code",
        "colab": {}
      },
      "source": [
        "train_X, train_y = createDataSplitSet(train_dir)\n",
        "val_X, val_y = createDataSplitSet(validation_dir)\n",
        "test_X, test_y = createDataSplitSet(test_dir)"
      ],
      "execution_count": 0,
      "outputs": []
    },
    {
      "cell_type": "code",
      "metadata": {
        "id": "zTSK5Ie6Srtf",
        "colab_type": "code",
        "colab": {}
      },
      "source": [
        "## VGG 16\n",
        "\n",
        "from tensorflow.keras.applications import VGG16\n",
        "from tensorflow.keras.layers import Dense, Input\n",
        "from tensorflow.keras import Model\n",
        "\n",
        "img_input = Input(shape=(IMG_SIZE, IMG_SIZE, 3))"
      ],
      "execution_count": 0,
      "outputs": []
    },
    {
      "cell_type": "code",
      "metadata": {
        "id": "UjdExPj_SzIa",
        "colab_type": "code",
        "outputId": "d080e4f3-4566-436c-8ce6-1a13b52dc666",
        "colab": {
          "base_uri": "https://localhost:8080/",
          "height": 1000
        }
      },
      "source": [
        "model = VGG16(\n",
        "    include_top=True,\n",
        "    weights=\"imagenet\",\n",
        "    input_tensor=img_input,\n",
        "    input_shape=None,\n",
        "    pooling=None,\n",
        "    classes=1000,\n",
        "    classifier_activation=\"softmax\",\n",
        ")\n",
        "model.summary()"
      ],
      "execution_count": 12,
      "outputs": [
        {
          "output_type": "stream",
          "text": [
            "Downloading data from https://storage.googleapis.com/tensorflow/keras-applications/vgg16/vgg16_weights_tf_dim_ordering_tf_kernels.h5\n",
            "553467904/553467096 [==============================] - 5s 0us/step\n",
            "Model: \"vgg16\"\n",
            "_________________________________________________________________\n",
            "Layer (type)                 Output Shape              Param #   \n",
            "=================================================================\n",
            "input_1 (InputLayer)         [(None, 224, 224, 3)]     0         \n",
            "_________________________________________________________________\n",
            "block1_conv1 (Conv2D)        (None, 224, 224, 64)      1792      \n",
            "_________________________________________________________________\n",
            "block1_conv2 (Conv2D)        (None, 224, 224, 64)      36928     \n",
            "_________________________________________________________________\n",
            "block1_pool (MaxPooling2D)   (None, 112, 112, 64)      0         \n",
            "_________________________________________________________________\n",
            "block2_conv1 (Conv2D)        (None, 112, 112, 128)     73856     \n",
            "_________________________________________________________________\n",
            "block2_conv2 (Conv2D)        (None, 112, 112, 128)     147584    \n",
            "_________________________________________________________________\n",
            "block2_pool (MaxPooling2D)   (None, 56, 56, 128)       0         \n",
            "_________________________________________________________________\n",
            "block3_conv1 (Conv2D)        (None, 56, 56, 256)       295168    \n",
            "_________________________________________________________________\n",
            "block3_conv2 (Conv2D)        (None, 56, 56, 256)       590080    \n",
            "_________________________________________________________________\n",
            "block3_conv3 (Conv2D)        (None, 56, 56, 256)       590080    \n",
            "_________________________________________________________________\n",
            "block3_pool (MaxPooling2D)   (None, 28, 28, 256)       0         \n",
            "_________________________________________________________________\n",
            "block4_conv1 (Conv2D)        (None, 28, 28, 512)       1180160   \n",
            "_________________________________________________________________\n",
            "block4_conv2 (Conv2D)        (None, 28, 28, 512)       2359808   \n",
            "_________________________________________________________________\n",
            "block4_conv3 (Conv2D)        (None, 28, 28, 512)       2359808   \n",
            "_________________________________________________________________\n",
            "block4_pool (MaxPooling2D)   (None, 14, 14, 512)       0         \n",
            "_________________________________________________________________\n",
            "block5_conv1 (Conv2D)        (None, 14, 14, 512)       2359808   \n",
            "_________________________________________________________________\n",
            "block5_conv2 (Conv2D)        (None, 14, 14, 512)       2359808   \n",
            "_________________________________________________________________\n",
            "block5_conv3 (Conv2D)        (None, 14, 14, 512)       2359808   \n",
            "_________________________________________________________________\n",
            "block5_pool (MaxPooling2D)   (None, 7, 7, 512)         0         \n",
            "_________________________________________________________________\n",
            "flatten (Flatten)            (None, 25088)             0         \n",
            "_________________________________________________________________\n",
            "fc1 (Dense)                  (None, 4096)              102764544 \n",
            "_________________________________________________________________\n",
            "fc2 (Dense)                  (None, 4096)              16781312  \n",
            "_________________________________________________________________\n",
            "predictions (Dense)          (None, 1000)              4097000   \n",
            "=================================================================\n",
            "Total params: 138,357,544\n",
            "Trainable params: 138,357,544\n",
            "Non-trainable params: 0\n",
            "_________________________________________________________________\n"
          ],
          "name": "stdout"
        }
      ]
    },
    {
      "cell_type": "code",
      "metadata": {
        "id": "OpC5PY_pS4GT",
        "colab_type": "code",
        "outputId": "9a5e7767-6115-4c27-ea34-beba88a2b6d7",
        "colab": {
          "base_uri": "https://localhost:8080/",
          "height": 1000
        }
      },
      "source": [
        "last_layer = model.get_layer('fc2').output\n",
        "out = Dense(1, activation='sigmoid', name='output')(last_layer)  ## 2 classes\n",
        "model = Model(img_input, out)\n",
        "\n",
        "for layer in model.layers[:-1]:\n",
        "\tlayer.trainable = False\n",
        "\n",
        "model.summary()\n",
        "\n"
      ],
      "execution_count": 13,
      "outputs": [
        {
          "output_type": "stream",
          "text": [
            "Model: \"model\"\n",
            "_________________________________________________________________\n",
            "Layer (type)                 Output Shape              Param #   \n",
            "=================================================================\n",
            "input_1 (InputLayer)         [(None, 224, 224, 3)]     0         \n",
            "_________________________________________________________________\n",
            "block1_conv1 (Conv2D)        (None, 224, 224, 64)      1792      \n",
            "_________________________________________________________________\n",
            "block1_conv2 (Conv2D)        (None, 224, 224, 64)      36928     \n",
            "_________________________________________________________________\n",
            "block1_pool (MaxPooling2D)   (None, 112, 112, 64)      0         \n",
            "_________________________________________________________________\n",
            "block2_conv1 (Conv2D)        (None, 112, 112, 128)     73856     \n",
            "_________________________________________________________________\n",
            "block2_conv2 (Conv2D)        (None, 112, 112, 128)     147584    \n",
            "_________________________________________________________________\n",
            "block2_pool (MaxPooling2D)   (None, 56, 56, 128)       0         \n",
            "_________________________________________________________________\n",
            "block3_conv1 (Conv2D)        (None, 56, 56, 256)       295168    \n",
            "_________________________________________________________________\n",
            "block3_conv2 (Conv2D)        (None, 56, 56, 256)       590080    \n",
            "_________________________________________________________________\n",
            "block3_conv3 (Conv2D)        (None, 56, 56, 256)       590080    \n",
            "_________________________________________________________________\n",
            "block3_pool (MaxPooling2D)   (None, 28, 28, 256)       0         \n",
            "_________________________________________________________________\n",
            "block4_conv1 (Conv2D)        (None, 28, 28, 512)       1180160   \n",
            "_________________________________________________________________\n",
            "block4_conv2 (Conv2D)        (None, 28, 28, 512)       2359808   \n",
            "_________________________________________________________________\n",
            "block4_conv3 (Conv2D)        (None, 28, 28, 512)       2359808   \n",
            "_________________________________________________________________\n",
            "block4_pool (MaxPooling2D)   (None, 14, 14, 512)       0         \n",
            "_________________________________________________________________\n",
            "block5_conv1 (Conv2D)        (None, 14, 14, 512)       2359808   \n",
            "_________________________________________________________________\n",
            "block5_conv2 (Conv2D)        (None, 14, 14, 512)       2359808   \n",
            "_________________________________________________________________\n",
            "block5_conv3 (Conv2D)        (None, 14, 14, 512)       2359808   \n",
            "_________________________________________________________________\n",
            "block5_pool (MaxPooling2D)   (None, 7, 7, 512)         0         \n",
            "_________________________________________________________________\n",
            "flatten (Flatten)            (None, 25088)             0         \n",
            "_________________________________________________________________\n",
            "fc1 (Dense)                  (None, 4096)              102764544 \n",
            "_________________________________________________________________\n",
            "fc2 (Dense)                  (None, 4096)              16781312  \n",
            "_________________________________________________________________\n",
            "output (Dense)               (None, 1)                 4097      \n",
            "=================================================================\n",
            "Total params: 134,264,641\n",
            "Trainable params: 4,097\n",
            "Non-trainable params: 134,260,544\n",
            "_________________________________________________________________\n"
          ],
          "name": "stdout"
        }
      ]
    },
    {
      "cell_type": "code",
      "metadata": {
        "id": "En4jVNnIS4-W",
        "colab_type": "code",
        "colab": {}
      },
      "source": [
        "\n"
      ],
      "execution_count": 0,
      "outputs": []
    },
    {
      "cell_type": "code",
      "metadata": {
        "id": "FvBPHdtJS47h",
        "colab_type": "code",
        "colab": {}
      },
      "source": [
        "\n",
        "model.compile(loss='binary_crossentropy',\n",
        "              optimizer='adam',\n",
        "              metrics=['acc'])"
      ],
      "execution_count": 0,
      "outputs": []
    },
    {
      "cell_type": "code",
      "metadata": {
        "id": "wh05o2I5S44n",
        "colab_type": "code",
        "colab": {}
      },
      "source": [
        "from tensorflow.keras.callbacks import EarlyStopping, ModelCheckpoint\n",
        "my_callbacks = [\n",
        "    EarlyStopping(monitor=\"val_loss\", patience=10, restore_best_weights=True),\n",
        "    ModelCheckpoint(filepath='vgg16_model.h5', save_best_only=True),\n",
        "]"
      ],
      "execution_count": 0,
      "outputs": []
    },
    {
      "cell_type": "code",
      "metadata": {
        "id": "xds2OtNuS-Gc",
        "colab_type": "code",
        "outputId": "f0a29b34-d56a-43f6-a6c3-681990dad5a0",
        "colab": {
          "base_uri": "https://localhost:8080/",
          "height": 1000
        }
      },
      "source": [
        "history = model.fit(train_X, train_y,\n",
        "                              batch_size=10,\n",
        "                              epochs=100, \n",
        "                              validation_data=(val_X, val_y),\n",
        "                              callbacks=my_callbacks) "
      ],
      "execution_count": 16,
      "outputs": [
        {
          "output_type": "stream",
          "text": [
            "Epoch 1/100\n",
            "50/50 [==============================] - 11s 224ms/step - loss: 0.7262 - acc: 0.5560 - val_loss: 0.7508 - val_acc: 0.5000\n",
            "Epoch 2/100\n",
            "50/50 [==============================] - 10s 206ms/step - loss: 0.6349 - acc: 0.6240 - val_loss: 0.6472 - val_acc: 0.6300\n",
            "Epoch 3/100\n",
            "50/50 [==============================] - 10s 207ms/step - loss: 0.6110 - acc: 0.6560 - val_loss: 0.5903 - val_acc: 0.7200\n",
            "Epoch 4/100\n",
            "50/50 [==============================] - 8s 169ms/step - loss: 0.6040 - acc: 0.6720 - val_loss: 0.6009 - val_acc: 0.7100\n",
            "Epoch 5/100\n",
            "50/50 [==============================] - 10s 204ms/step - loss: 0.6381 - acc: 0.6520 - val_loss: 0.5623 - val_acc: 0.7500\n",
            "Epoch 6/100\n",
            "50/50 [==============================] - 8s 168ms/step - loss: 0.5226 - acc: 0.7520 - val_loss: 0.5698 - val_acc: 0.7100\n",
            "Epoch 7/100\n",
            "50/50 [==============================] - 8s 169ms/step - loss: 0.5239 - acc: 0.7440 - val_loss: 0.5638 - val_acc: 0.7200\n",
            "Epoch 8/100\n",
            "50/50 [==============================] - 8s 169ms/step - loss: 0.5536 - acc: 0.7040 - val_loss: 0.6821 - val_acc: 0.6300\n",
            "Epoch 9/100\n",
            "50/50 [==============================] - 10s 205ms/step - loss: 0.5415 - acc: 0.6880 - val_loss: 0.5360 - val_acc: 0.7500\n",
            "Epoch 10/100\n",
            "50/50 [==============================] - 10s 202ms/step - loss: 0.4931 - acc: 0.7620 - val_loss: 0.5348 - val_acc: 0.7600\n",
            "Epoch 11/100\n",
            "50/50 [==============================] - 8s 168ms/step - loss: 0.5211 - acc: 0.7540 - val_loss: 0.5481 - val_acc: 0.7300\n",
            "Epoch 12/100\n",
            "50/50 [==============================] - 10s 205ms/step - loss: 0.4783 - acc: 0.7840 - val_loss: 0.5279 - val_acc: 0.7500\n",
            "Epoch 13/100\n",
            "50/50 [==============================] - 8s 168ms/step - loss: 0.4684 - acc: 0.8100 - val_loss: 0.5764 - val_acc: 0.7000\n",
            "Epoch 14/100\n",
            "50/50 [==============================] - 8s 169ms/step - loss: 0.4803 - acc: 0.7600 - val_loss: 0.6242 - val_acc: 0.6800\n",
            "Epoch 15/100\n",
            "50/50 [==============================] - 10s 206ms/step - loss: 0.4778 - acc: 0.7840 - val_loss: 0.5154 - val_acc: 0.7700\n",
            "Epoch 16/100\n",
            "50/50 [==============================] - 10s 208ms/step - loss: 0.4868 - acc: 0.7600 - val_loss: 0.5127 - val_acc: 0.7600\n",
            "Epoch 17/100\n",
            "50/50 [==============================] - 10s 207ms/step - loss: 0.4396 - acc: 0.7900 - val_loss: 0.5104 - val_acc: 0.7700\n",
            "Epoch 18/100\n",
            "50/50 [==============================] - 10s 208ms/step - loss: 0.4608 - acc: 0.7920 - val_loss: 0.5039 - val_acc: 0.7700\n",
            "Epoch 19/100\n",
            "50/50 [==============================] - 10s 209ms/step - loss: 0.4401 - acc: 0.7980 - val_loss: 0.4937 - val_acc: 0.7700\n",
            "Epoch 20/100\n",
            "50/50 [==============================] - 10s 207ms/step - loss: 0.4244 - acc: 0.8120 - val_loss: 0.4907 - val_acc: 0.7700\n",
            "Epoch 21/100\n",
            "50/50 [==============================] - 8s 169ms/step - loss: 0.4215 - acc: 0.8120 - val_loss: 0.4948 - val_acc: 0.7500\n",
            "Epoch 22/100\n",
            "50/50 [==============================] - 8s 169ms/step - loss: 0.5055 - acc: 0.7400 - val_loss: 0.5271 - val_acc: 0.7300\n",
            "Epoch 23/100\n",
            "50/50 [==============================] - 10s 205ms/step - loss: 0.4168 - acc: 0.8100 - val_loss: 0.4827 - val_acc: 0.7700\n",
            "Epoch 24/100\n",
            "50/50 [==============================] - 8s 169ms/step - loss: 0.4062 - acc: 0.8220 - val_loss: 0.5696 - val_acc: 0.7300\n",
            "Epoch 25/100\n",
            "50/50 [==============================] - 8s 169ms/step - loss: 0.4201 - acc: 0.8100 - val_loss: 0.5024 - val_acc: 0.7600\n",
            "Epoch 26/100\n",
            "50/50 [==============================] - 10s 208ms/step - loss: 0.4104 - acc: 0.8260 - val_loss: 0.4791 - val_acc: 0.7800\n",
            "Epoch 27/100\n",
            "50/50 [==============================] - 8s 169ms/step - loss: 0.4046 - acc: 0.8300 - val_loss: 0.4797 - val_acc: 0.7600\n",
            "Epoch 28/100\n",
            "50/50 [==============================] - 8s 168ms/step - loss: 0.4166 - acc: 0.8080 - val_loss: 0.5653 - val_acc: 0.7300\n",
            "Epoch 29/100\n",
            "50/50 [==============================] - 10s 208ms/step - loss: 0.4141 - acc: 0.7840 - val_loss: 0.4700 - val_acc: 0.7900\n",
            "Epoch 30/100\n",
            "50/50 [==============================] - 8s 168ms/step - loss: 0.4121 - acc: 0.8000 - val_loss: 0.4731 - val_acc: 0.7500\n",
            "Epoch 31/100\n",
            "50/50 [==============================] - 8s 169ms/step - loss: 0.4390 - acc: 0.7800 - val_loss: 0.5552 - val_acc: 0.7300\n",
            "Epoch 32/100\n",
            "50/50 [==============================] - 8s 169ms/step - loss: 0.4011 - acc: 0.8300 - val_loss: 0.4882 - val_acc: 0.7700\n",
            "Epoch 33/100\n",
            "50/50 [==============================] - 8s 169ms/step - loss: 0.3997 - acc: 0.8160 - val_loss: 0.4793 - val_acc: 0.7900\n",
            "Epoch 34/100\n",
            "50/50 [==============================] - 8s 168ms/step - loss: 0.4353 - acc: 0.8020 - val_loss: 0.5152 - val_acc: 0.7700\n",
            "Epoch 35/100\n",
            "50/50 [==============================] - 8s 168ms/step - loss: 0.3995 - acc: 0.8200 - val_loss: 0.5274 - val_acc: 0.7700\n",
            "Epoch 36/100\n",
            "50/50 [==============================] - 8s 168ms/step - loss: 0.3854 - acc: 0.8300 - val_loss: 0.5057 - val_acc: 0.7600\n",
            "Epoch 37/100\n",
            "50/50 [==============================] - 8s 168ms/step - loss: 0.3734 - acc: 0.8360 - val_loss: 0.4718 - val_acc: 0.7600\n",
            "Epoch 38/100\n",
            "50/50 [==============================] - 8s 168ms/step - loss: 0.4053 - acc: 0.8240 - val_loss: 0.6103 - val_acc: 0.7100\n",
            "Epoch 39/100\n",
            "50/50 [==============================] - 8s 170ms/step - loss: 0.4196 - acc: 0.7940 - val_loss: 0.4734 - val_acc: 0.7500\n"
          ],
          "name": "stdout"
        }
      ]
    },
    {
      "cell_type": "code",
      "metadata": {
        "id": "m468iT3LS-EY",
        "colab_type": "code",
        "colab": {
          "base_uri": "https://localhost:8080/",
          "height": 545
        },
        "outputId": "ac96a85e-3ecd-4bd4-b6f1-d9fdad73dec1"
      },
      "source": [
        "import matplotlib.pyplot as plt\n",
        "\n",
        "acc = history.history['acc']\n",
        "val_acc = history.history['val_acc']\n",
        "loss = history.history['loss']\n",
        "val_loss = history.history['val_loss']\n",
        "\n",
        "epochs = range(1, len(acc) + 1)\n",
        "\n",
        "plt.plot(epochs, acc, 'bo', label='Training acc')\n",
        "plt.plot(epochs, val_acc, 'b', label='Validation acc')\n",
        "plt.title('Training and validation accuracy')\n",
        "plt.legend()\n",
        "\n",
        "plt.figure()\n",
        "\n",
        "plt.plot(epochs, loss, 'bo', label='Training loss')\n",
        "plt.plot(epochs, val_loss, 'b', label='Validation loss')\n",
        "plt.title('Training and validation loss')\n",
        "plt.legend()\n",
        "\n",
        "plt.show()\n"
      ],
      "execution_count": 17,
      "outputs": [
        {
          "output_type": "display_data",
          "data": {
            "image/png": "[encoded data removed]",
            "text/plain": [
              "<Figure size 432x288 with 1 Axes>"
            ]
          },
          "metadata": {
            "tags": [],
            "needs_background": "light"
          }
        },
        {
          "output_type": "display_data",
          "data": {
            "image/png": "[encoded data removed]",
            "text/plain": [
              "<Figure size 432x288 with 1 Axes>"
            ]
          },
          "metadata": {
            "tags": [],
            "needs_background": "light"
          }
        }
      ]
    },
    {
      "cell_type": "code",
      "metadata": {
        "id": "HWhXOcRBS-BD",
        "colab_type": "code",
        "colab": {
          "base_uri": "https://localhost:8080/",
          "height": 146
        },
        "outputId": "60192ddd-2542-4bc1-fc5e-1d38438bf3b4"
      },
      "source": [
        "from sklearn.metrics import accuracy_score\n",
        "\n",
        "## Test Accuracy\n",
        "predictions = model.predict(test_X)\n",
        "ypred = predictions > 0.5\n",
        "test_acc = accuracy_score(test_y, ypred)\n",
        "\n",
        "from sklearn.metrics import precision_recall_fscore_support, roc_auc_score\n",
        "\n",
        "precision, recall, f1score, _ = precision_recall_fscore_support(test_y, ypred, average='binary')\n",
        "\n",
        "auc = roc_auc_score(test_y, ypred)\n",
        "\n",
        "print(\"Train Accuracy:\\t\", acc[-1])\n",
        "print(\"Val Accuracy:\\t\", val_acc[-1])\n",
        "print(\"Test Accuracy:\\t\", test_acc)\n",
        "print(\"Precision:\\t\", precision)\n",
        "print(\"Recall:\\t\\t\", recall)\n",
        "print(\"F1 Score:\\t\", f1score)\n",
        "print(\"AUC:\\t\\t\", auc)\n"
      ],
      "execution_count": 18,
      "outputs": [
        {
          "output_type": "stream",
          "text": [
            "Train Accuracy:\t 0.7940000295639038\n",
            "Val Accuracy:\t 0.75\n",
            "Test Accuracy:\t 0.78125\n",
            "Precision:\t 0.7547169811320755\n",
            "Recall:\t\t 0.8333333333333334\n",
            "F1 Score:\t 0.7920792079207922\n",
            "AUC:\t\t 0.7812500000000001\n"
          ],
          "name": "stdout"
        }
      ]
    },
    {
      "cell_type": "code",
      "metadata": {
        "id": "-Wj8rUVRTdKc",
        "colab_type": "code",
        "colab": {}
      },
      "source": [
        ""
      ],
      "execution_count": 0,
      "outputs": []
    },
    {
      "cell_type": "code",
      "metadata": {
        "id": "HhaxoZhuS9_O",
        "colab_type": "code",
        "colab": {}
      },
      "source": [
        "  "
      ],
      "execution_count": 0,
      "outputs": []
    },
    {
      "cell_type": "code",
      "metadata": {
        "id": "H2Vx4A8DS98q",
        "colab_type": "code",
        "colab": {}
      },
      "source": [
        ""
      ],
      "execution_count": 0,
      "outputs": []
    },
    {
      "cell_type": "code",
      "metadata": {
        "id": "weNG_wUmS95d",
        "colab_type": "code",
        "colab": {}
      },
      "source": [
        ""
      ],
      "execution_count": 0,
      "outputs": []
    },
    {
      "cell_type": "code",
      "metadata": {
        "id": "A9iCRaMaS92y",
        "colab_type": "code",
        "colab": {}
      },
      "source": [
        ""
      ],
      "execution_count": 0,
      "outputs": []
    }
  ]
}