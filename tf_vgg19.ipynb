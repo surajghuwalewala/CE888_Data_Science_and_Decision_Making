{
  "nbformat": 4,
  "nbformat_minor": 0,
  "metadata": {
    "colab": {
      "name": "tf_vgg19",
      "provenance": [],
      "authorship_tag": "ABX9TyOeBxc69zrMRjxVRlb5E5LL",
      "include_colab_link": true
    },
    "kernelspec": {
      "name": "python3",
      "display_name": "Python 3"
    },
    "accelerator": "GPU"
  },
  "cells": [
    {
      "cell_type": "markdown",
      "metadata": {
        "id": "view-in-github",
        "colab_type": "text"
      },
      "source": [
        "<a href=\"https://colab.research.google.com/github/surajghuwalewala/CE888_Data_Science_and_Decision_Making/blob/master/tf_vgg19.ipynb\" target=\"_parent\"><img src=\"https://colab.research.google.com/assets/colab-badge.svg\" alt=\"Open In Colab\"/></a>"
      ]
    },
    {
      "cell_type": "code",
      "metadata": {
        "id": "ig66PZMImhej",
        "colab_type": "code",
        "colab": {}
      },
      "source": [
        "import numpy as np"
      ],
      "execution_count": 0,
      "outputs": []
    },
    {
      "cell_type": "code",
      "metadata": {
        "id": "JuJjPmh0myM0",
        "colab_type": "code",
        "outputId": "fc76992d-548a-48c6-868a-2b919244e734",
        "colab": {
          "base_uri": "https://localhost:8080/",
          "height": 169
        }
      },
      "source": [
        "!git clone https://github.com/UCSD-AI4H/COVID-CT.git\n",
        "\n",
        "## unzip archives  q - quite, n - don't overwrite\n",
        "!unzip -q -n '/content/COVID-CT/Images-processed/CT_COVID.zip'\n",
        "!unzip -q -n '/content/COVID-CT/Images-processed/CT_NonCOVID.zip'\n"
      ],
      "execution_count": 1,
      "outputs": [
        {
          "output_type": "stream",
          "text": [
            "Cloning into 'COVID-CT'...\n",
            "remote: Enumerating objects: 16, done.\u001b[K\n",
            "remote: Counting objects: 100% (16/16), done.\u001b[K\n",
            "remote: Compressing objects: 100% (16/16), done.\u001b[K\n",
            "remote: Total 5459 (delta 8), reused 0 (delta 0), pack-reused 5443\u001b[K\n",
            "Receiving objects: 100% (5459/5459), 1.09 GiB | 15.44 MiB/s, done.\n",
            "Resolving deltas: 100% (363/363), done.\n",
            "Checking out files: 100% (1048/1048), done.\n"
          ],
          "name": "stdout"
        }
      ]
    },
    {
      "cell_type": "code",
      "metadata": {
        "id": "0mJkYG7ynFP_",
        "colab_type": "code",
        "outputId": "c292ee4a-ad86-40b3-9b84-8446545e1894",
        "colab": {
          "base_uri": "https://localhost:8080/",
          "height": 55
        }
      },
      "source": [
        "import os\n",
        "path='/content/CT_COVID/'\n",
        "for count, filename in enumerate(os.listdir(path)): \n",
        "    dst =\"covid\" + str(count) + \".png\"\n",
        "    src =path+ filename \n",
        "    dst =path+ dst \n",
        "        \n",
        "    # rename() function will \n",
        "    # rename all the files \n",
        "    os.rename(src, dst)\n",
        "print(\"Covid P cases: \", count)\n",
        "\n",
        "path='/content/CT_NonCOVID/'\n",
        "for count, filename in enumerate(os.listdir(path)): \n",
        "    dst =\"noncovid\" + str(count) + \".png\"\n",
        "    src =path+ filename \n",
        "    dst =path+ dst \n",
        "        \n",
        "    # rename() function will \n",
        "    # rename all the files \n",
        "    os.rename(src, dst)\n",
        "\n",
        "print(\"Covid N cases: \", count)\n"
      ],
      "execution_count": 2,
      "outputs": [
        {
          "output_type": "stream",
          "text": [
            "Covid P cases:  348\n",
            "Covid N cases:  396\n"
          ],
          "name": "stdout"
        }
      ]
    },
    {
      "cell_type": "code",
      "metadata": {
        "id": "P8tQG3N_nKTn",
        "colab_type": "code",
        "colab": {}
      },
      "source": [
        "base_dir = '/content/covid19_CT'\n",
        "if not os.path.exists(base_dir): os.mkdir(base_dir)"
      ],
      "execution_count": 0,
      "outputs": []
    },
    {
      "cell_type": "code",
      "metadata": {
        "id": "j041xg68nNJJ",
        "colab_type": "code",
        "colab": {}
      },
      "source": [
        "train_dir = os.path.join(base_dir, 'train')\n",
        "if not os.path.exists(train_dir): os.mkdir(train_dir)\n",
        "\n",
        "validation_dir = os.path.join(base_dir, 'validation')\n",
        "if not os.path.exists(validation_dir):os.mkdir(validation_dir)\n",
        "\n",
        "test_dir = os.path.join(base_dir, 'test')\n",
        "if not os.path.exists(test_dir):os.mkdir(test_dir)\n",
        "\n",
        "train_covid_dir = os.path.join(train_dir, 'covid')\n",
        "if not os.path.exists(train_covid_dir):os.mkdir(train_covid_dir)\n",
        "\n",
        "train_noncovid_dir = os.path.join(train_dir, 'noncovid')\n",
        "if not os.path.exists(train_noncovid_dir):os.mkdir(train_noncovid_dir)\n",
        "\n",
        "validation_covid_dir = os.path.join(validation_dir, 'covid')\n",
        "if not os.path.exists(validation_covid_dir):os.mkdir(validation_covid_dir)\n",
        "\n",
        "validation_noncovid_dir = os.path.join(validation_dir, 'noncovid')\n",
        "if not os.path.exists(validation_noncovid_dir):os.mkdir(validation_noncovid_dir)\n",
        "\n",
        "test_covid_dir = os.path.join(test_dir, 'covid')\n",
        "if not os.path.exists(test_covid_dir):os.mkdir(test_covid_dir)\n",
        "\n",
        "test_noncovid_dir = os.path.join(test_dir, 'noncovid')\n",
        "if not os.path.exists(test_noncovid_dir):os.mkdir(test_noncovid_dir)"
      ],
      "execution_count": 0,
      "outputs": []
    },
    {
      "cell_type": "code",
      "metadata": {
        "id": "FDAmLH2rnPs2",
        "colab_type": "code",
        "colab": {}
      },
      "source": [
        "original_dataset_dir_covid = '/content/CT_COVID/'\n",
        "original_dataset_dir_non_covid = '/content/CT_NonCOVID/'\n",
        "\n",
        "import shutil\n",
        "fnames = ['covid{}.png'.format(i) for i in range(250)]\n",
        "for fname in fnames:\n",
        "    src = os.path.join(original_dataset_dir_covid, fname)\n",
        "    dst = os.path.join(train_covid_dir, fname)\n",
        "    #print(src,dst)\n",
        "    shutil.copyfile(src, dst)\n",
        "    \n",
        "fnames = ['covid{}.png'.format(i) for i in range(250, 300)]\n",
        "for fname in fnames:\n",
        "    src = os.path.join(original_dataset_dir_covid, fname)\n",
        "    dst = os.path.join(validation_covid_dir, fname)\n",
        "    shutil.copyfile(src, dst)\n",
        "\n",
        "fnames = ['covid{}.png'.format(i) for i in range(300, 348)]\n",
        "for fname in fnames:\n",
        "    src = os.path.join(original_dataset_dir_covid, fname)\n",
        "    dst = os.path.join(test_covid_dir, fname)\n",
        "    shutil.copyfile(src, dst)\n",
        "    \n"
      ],
      "execution_count": 0,
      "outputs": []
    },
    {
      "cell_type": "code",
      "metadata": {
        "id": "lobbEfewnRGW",
        "colab_type": "code",
        "colab": {}
      },
      "source": [
        "fnames = ['noncovid{}.png'.format(i) for i in range(250)]\n",
        "for fname in fnames:\n",
        "    src = os.path.join(original_dataset_dir_non_covid, fname)\n",
        "    dst = os.path.join(train_noncovid_dir, fname)\n",
        "    shutil.copyfile(src, dst)\n",
        "\n",
        "fnames = ['noncovid{}.png'.format(i) for i in range(250, 300)]\n",
        "for fname in fnames:\n",
        "    src = os.path.join(original_dataset_dir_non_covid, fname)\n",
        "    dst = os.path.join(validation_noncovid_dir, fname)\n",
        "    shutil.copyfile(src, dst)\n",
        "\n",
        "fnames = ['noncovid{}.png'.format(i) for i in range(300, 348)]\n",
        "for fname in fnames:\n",
        "    src = os.path.join(original_dataset_dir_non_covid, fname)\n",
        "    dst = os.path.join(test_noncovid_dir, fname)\n",
        "    shutil.copyfile(src, dst)"
      ],
      "execution_count": 0,
      "outputs": []
    },
    {
      "cell_type": "code",
      "metadata": {
        "id": "76ytkO-cnSMz",
        "colab_type": "code",
        "outputId": "2c74323e-8919-4819-b836-f9d640069795",
        "colab": {
          "base_uri": "https://localhost:8080/",
          "height": 131
        }
      },
      "source": [
        "print('total training Covid images:', len(os.listdir(train_covid_dir)))\n",
        "print('total training NonCovid images:', len(os.listdir(train_noncovid_dir)))\n",
        "\n",
        "print('total validation Covid images:', len(os.listdir(validation_covid_dir)))\n",
        "print('total validation NonCovid images:', len(os.listdir(validation_noncovid_dir)))\n",
        "\n",
        "print('total test Covid images:', len(os.listdir(test_covid_dir)))\n",
        "print('total test NonCovid images:', len(os.listdir(test_noncovid_dir)))"
      ],
      "execution_count": 7,
      "outputs": [
        {
          "output_type": "stream",
          "text": [
            "total training Covid images: 250\n",
            "total training NonCovid images: 250\n",
            "total validation Covid images: 50\n",
            "total validation NonCovid images: 50\n",
            "total test Covid images: 48\n",
            "total test NonCovid images: 48\n"
          ],
          "name": "stdout"
        }
      ]
    },
    {
      "cell_type": "code",
      "metadata": {
        "id": "oqmx5z7EnTdu",
        "colab_type": "code",
        "colab": {}
      },
      "source": [
        ""
      ],
      "execution_count": 0,
      "outputs": []
    },
    {
      "cell_type": "code",
      "metadata": {
        "id": "hZ3KuTBunUKC",
        "colab_type": "code",
        "outputId": "7daeec4c-36ab-4dd0-9909-8e245b54c62d",
        "colab": {
          "base_uri": "https://localhost:8080/",
          "height": 93
        }
      },
      "source": [
        "from keras.preprocessing.image import ImageDataGenerator\n",
        "\n",
        "datagen = ImageDataGenerator(rescale=1./255)\n",
        "\n",
        "IMG_SIZE = 224\n",
        "\n",
        "train_generator = datagen.flow_from_directory(train_dir,\n",
        "                                                    target_size=(IMG_SIZE, IMG_SIZE), \n",
        "                                                    batch_size=100,\n",
        "                                                    class_mode='binary')\n",
        "\n",
        "validation_generator = datagen.flow_from_directory(validation_dir,\n",
        "                                                        target_size=(IMG_SIZE, IMG_SIZE),\n",
        "                                                        batch_size=100,\n",
        "                                                        class_mode='binary')\n",
        "\n",
        "test_generator = datagen.flow_from_directory(test_dir,\n",
        "                                                    target_size=(IMG_SIZE, IMG_SIZE),\n",
        "                                                    batch_size=100,\n",
        "                                                    class_mode='binary')"
      ],
      "execution_count": 8,
      "outputs": [
        {
          "output_type": "stream",
          "text": [
            "Using TensorFlow backend.\n"
          ],
          "name": "stderr"
        },
        {
          "output_type": "stream",
          "text": [
            "Found 500 images belonging to 2 classes.\n",
            "Found 100 images belonging to 2 classes.\n",
            "Found 96 images belonging to 2 classes.\n"
          ],
          "name": "stdout"
        }
      ]
    },
    {
      "cell_type": "code",
      "metadata": {
        "id": "i85tFxwuosEH",
        "colab_type": "code",
        "colab": {}
      },
      "source": [
        "## VGG 16\n",
        "\n",
        "from tensorflow.keras.applications import VGG19\n",
        "from tensorflow.keras.layers import Dense, Input\n",
        "from tensorflow.keras import Model"
      ],
      "execution_count": 0,
      "outputs": []
    },
    {
      "cell_type": "code",
      "metadata": {
        "id": "QDAORsuVo_ah",
        "colab_type": "code",
        "colab": {}
      },
      "source": [
        "img_input = Input(shape=(IMG_SIZE, IMG_SIZE, 3))"
      ],
      "execution_count": 0,
      "outputs": []
    },
    {
      "cell_type": "code",
      "metadata": {
        "id": "PpzdzAmdnUNF",
        "colab_type": "code",
        "colab": {
          "base_uri": "https://localhost:8080/",
          "height": 55
        },
        "outputId": "0c20d1d1-e93c-4adc-a80d-175dd2a2ccb0"
      },
      "source": [
        "\n",
        "model = VGG19(\n",
        "    include_top=True,\n",
        "    weights=\"imagenet\",\n",
        "    input_tensor=img_input,\n",
        "    input_shape=None,\n",
        "    pooling=None,\n",
        "    classes=1000,\n",
        "    classifier_activation=\"softmax\",\n",
        ")"
      ],
      "execution_count": 11,
      "outputs": [
        {
          "output_type": "stream",
          "text": [
            "Downloading data from https://storage.googleapis.com/tensorflow/keras-applications/vgg19/vgg19_weights_tf_dim_ordering_tf_kernels.h5\n",
            "574717952/574710816 [==============================] - 15s 0us/step\n"
          ],
          "name": "stdout"
        }
      ]
    },
    {
      "cell_type": "code",
      "metadata": {
        "id": "ru-uJGXboKB6",
        "colab_type": "code",
        "outputId": "e7e2cbfe-df1c-496d-e9c6-bf64947e58c9",
        "colab": {
          "base_uri": "https://localhost:8080/",
          "height": 1000
        }
      },
      "source": [
        "model.summary()"
      ],
      "execution_count": 12,
      "outputs": [
        {
          "output_type": "stream",
          "text": [
            "Model: \"vgg19\"\n",
            "_________________________________________________________________\n",
            "Layer (type)                 Output Shape              Param #   \n",
            "=================================================================\n",
            "input_1 (InputLayer)         [(None, 224, 224, 3)]     0         \n",
            "_________________________________________________________________\n",
            "block1_conv1 (Conv2D)        (None, 224, 224, 64)      1792      \n",
            "_________________________________________________________________\n",
            "block1_conv2 (Conv2D)        (None, 224, 224, 64)      36928     \n",
            "_________________________________________________________________\n",
            "block1_pool (MaxPooling2D)   (None, 112, 112, 64)      0         \n",
            "_________________________________________________________________\n",
            "block2_conv1 (Conv2D)        (None, 112, 112, 128)     73856     \n",
            "_________________________________________________________________\n",
            "block2_conv2 (Conv2D)        (None, 112, 112, 128)     147584    \n",
            "_________________________________________________________________\n",
            "block2_pool (MaxPooling2D)   (None, 56, 56, 128)       0         \n",
            "_________________________________________________________________\n",
            "block3_conv1 (Conv2D)        (None, 56, 56, 256)       295168    \n",
            "_________________________________________________________________\n",
            "block3_conv2 (Conv2D)        (None, 56, 56, 256)       590080    \n",
            "_________________________________________________________________\n",
            "block3_conv3 (Conv2D)        (None, 56, 56, 256)       590080    \n",
            "_________________________________________________________________\n",
            "block3_conv4 (Conv2D)        (None, 56, 56, 256)       590080    \n",
            "_________________________________________________________________\n",
            "block3_pool (MaxPooling2D)   (None, 28, 28, 256)       0         \n",
            "_________________________________________________________________\n",
            "block4_conv1 (Conv2D)        (None, 28, 28, 512)       1180160   \n",
            "_________________________________________________________________\n",
            "block4_conv2 (Conv2D)        (None, 28, 28, 512)       2359808   \n",
            "_________________________________________________________________\n",
            "block4_conv3 (Conv2D)        (None, 28, 28, 512)       2359808   \n",
            "_________________________________________________________________\n",
            "block4_conv4 (Conv2D)        (None, 28, 28, 512)       2359808   \n",
            "_________________________________________________________________\n",
            "block4_pool (MaxPooling2D)   (None, 14, 14, 512)       0         \n",
            "_________________________________________________________________\n",
            "block5_conv1 (Conv2D)        (None, 14, 14, 512)       2359808   \n",
            "_________________________________________________________________\n",
            "block5_conv2 (Conv2D)        (None, 14, 14, 512)       2359808   \n",
            "_________________________________________________________________\n",
            "block5_conv3 (Conv2D)        (None, 14, 14, 512)       2359808   \n",
            "_________________________________________________________________\n",
            "block5_conv4 (Conv2D)        (None, 14, 14, 512)       2359808   \n",
            "_________________________________________________________________\n",
            "block5_pool (MaxPooling2D)   (None, 7, 7, 512)         0         \n",
            "_________________________________________________________________\n",
            "flatten (Flatten)            (None, 25088)             0         \n",
            "_________________________________________________________________\n",
            "fc1 (Dense)                  (None, 4096)              102764544 \n",
            "_________________________________________________________________\n",
            "fc2 (Dense)                  (None, 4096)              16781312  \n",
            "_________________________________________________________________\n",
            "predictions (Dense)          (None, 1000)              4097000   \n",
            "=================================================================\n",
            "Total params: 143,667,240\n",
            "Trainable params: 143,667,240\n",
            "Non-trainable params: 0\n",
            "_________________________________________________________________\n"
          ],
          "name": "stdout"
        }
      ]
    },
    {
      "cell_type": "code",
      "metadata": {
        "id": "29SYfTRKoWyF",
        "colab_type": "code",
        "outputId": "73ddae67-e705-4a6d-f683-ea43cdd3acb3",
        "colab": {
          "base_uri": "https://localhost:8080/",
          "height": 1000
        }
      },
      "source": [
        "last_layer = model.get_layer('fc2').output\n",
        "#x= Flatten(name='flatten')(last_layer)\n",
        "out = Dense(1, activation='sigmoid', name='output')(last_layer)  ## 2 classes\n",
        "custom_vgg_model = Model(img_input, out)\n",
        "custom_vgg_model.summary()"
      ],
      "execution_count": 13,
      "outputs": [
        {
          "output_type": "stream",
          "text": [
            "Model: \"model\"\n",
            "_________________________________________________________________\n",
            "Layer (type)                 Output Shape              Param #   \n",
            "=================================================================\n",
            "input_1 (InputLayer)         [(None, 224, 224, 3)]     0         \n",
            "_________________________________________________________________\n",
            "block1_conv1 (Conv2D)        (None, 224, 224, 64)      1792      \n",
            "_________________________________________________________________\n",
            "block1_conv2 (Conv2D)        (None, 224, 224, 64)      36928     \n",
            "_________________________________________________________________\n",
            "block1_pool (MaxPooling2D)   (None, 112, 112, 64)      0         \n",
            "_________________________________________________________________\n",
            "block2_conv1 (Conv2D)        (None, 112, 112, 128)     73856     \n",
            "_________________________________________________________________\n",
            "block2_conv2 (Conv2D)        (None, 112, 112, 128)     147584    \n",
            "_________________________________________________________________\n",
            "block2_pool (MaxPooling2D)   (None, 56, 56, 128)       0         \n",
            "_________________________________________________________________\n",
            "block3_conv1 (Conv2D)        (None, 56, 56, 256)       295168    \n",
            "_________________________________________________________________\n",
            "block3_conv2 (Conv2D)        (None, 56, 56, 256)       590080    \n",
            "_________________________________________________________________\n",
            "block3_conv3 (Conv2D)        (None, 56, 56, 256)       590080    \n",
            "_________________________________________________________________\n",
            "block3_conv4 (Conv2D)        (None, 56, 56, 256)       590080    \n",
            "_________________________________________________________________\n",
            "block3_pool (MaxPooling2D)   (None, 28, 28, 256)       0         \n",
            "_________________________________________________________________\n",
            "block4_conv1 (Conv2D)        (None, 28, 28, 512)       1180160   \n",
            "_________________________________________________________________\n",
            "block4_conv2 (Conv2D)        (None, 28, 28, 512)       2359808   \n",
            "_________________________________________________________________\n",
            "block4_conv3 (Conv2D)        (None, 28, 28, 512)       2359808   \n",
            "_________________________________________________________________\n",
            "block4_conv4 (Conv2D)        (None, 28, 28, 512)       2359808   \n",
            "_________________________________________________________________\n",
            "block4_pool (MaxPooling2D)   (None, 14, 14, 512)       0         \n",
            "_________________________________________________________________\n",
            "block5_conv1 (Conv2D)        (None, 14, 14, 512)       2359808   \n",
            "_________________________________________________________________\n",
            "block5_conv2 (Conv2D)        (None, 14, 14, 512)       2359808   \n",
            "_________________________________________________________________\n",
            "block5_conv3 (Conv2D)        (None, 14, 14, 512)       2359808   \n",
            "_________________________________________________________________\n",
            "block5_conv4 (Conv2D)        (None, 14, 14, 512)       2359808   \n",
            "_________________________________________________________________\n",
            "block5_pool (MaxPooling2D)   (None, 7, 7, 512)         0         \n",
            "_________________________________________________________________\n",
            "flatten (Flatten)            (None, 25088)             0         \n",
            "_________________________________________________________________\n",
            "fc1 (Dense)                  (None, 4096)              102764544 \n",
            "_________________________________________________________________\n",
            "fc2 (Dense)                  (None, 4096)              16781312  \n",
            "_________________________________________________________________\n",
            "output (Dense)               (None, 1)                 4097      \n",
            "=================================================================\n",
            "Total params: 139,574,337\n",
            "Trainable params: 139,574,337\n",
            "Non-trainable params: 0\n",
            "_________________________________________________________________\n"
          ],
          "name": "stdout"
        }
      ]
    },
    {
      "cell_type": "code",
      "metadata": {
        "id": "lHxJOI5AopBm",
        "colab_type": "code",
        "outputId": "9a94d4bf-9bb8-49fa-a502-b88347c15a74",
        "colab": {
          "base_uri": "https://localhost:8080/",
          "height": 1000
        }
      },
      "source": [
        "\n",
        "for layer in custom_vgg_model.layers[:-1]:\n",
        "\tlayer.trainable = False\n",
        "\n",
        "custom_vgg_model.layers[-1].trainable\n",
        "custom_vgg_model.summary()"
      ],
      "execution_count": 14,
      "outputs": [
        {
          "output_type": "stream",
          "text": [
            "Model: \"model\"\n",
            "_________________________________________________________________\n",
            "Layer (type)                 Output Shape              Param #   \n",
            "=================================================================\n",
            "input_1 (InputLayer)         [(None, 224, 224, 3)]     0         \n",
            "_________________________________________________________________\n",
            "block1_conv1 (Conv2D)        (None, 224, 224, 64)      1792      \n",
            "_________________________________________________________________\n",
            "block1_conv2 (Conv2D)        (None, 224, 224, 64)      36928     \n",
            "_________________________________________________________________\n",
            "block1_pool (MaxPooling2D)   (None, 112, 112, 64)      0         \n",
            "_________________________________________________________________\n",
            "block2_conv1 (Conv2D)        (None, 112, 112, 128)     73856     \n",
            "_________________________________________________________________\n",
            "block2_conv2 (Conv2D)        (None, 112, 112, 128)     147584    \n",
            "_________________________________________________________________\n",
            "block2_pool (MaxPooling2D)   (None, 56, 56, 128)       0         \n",
            "_________________________________________________________________\n",
            "block3_conv1 (Conv2D)        (None, 56, 56, 256)       295168    \n",
            "_________________________________________________________________\n",
            "block3_conv2 (Conv2D)        (None, 56, 56, 256)       590080    \n",
            "_________________________________________________________________\n",
            "block3_conv3 (Conv2D)        (None, 56, 56, 256)       590080    \n",
            "_________________________________________________________________\n",
            "block3_conv4 (Conv2D)        (None, 56, 56, 256)       590080    \n",
            "_________________________________________________________________\n",
            "block3_pool (MaxPooling2D)   (None, 28, 28, 256)       0         \n",
            "_________________________________________________________________\n",
            "block4_conv1 (Conv2D)        (None, 28, 28, 512)       1180160   \n",
            "_________________________________________________________________\n",
            "block4_conv2 (Conv2D)        (None, 28, 28, 512)       2359808   \n",
            "_________________________________________________________________\n",
            "block4_conv3 (Conv2D)        (None, 28, 28, 512)       2359808   \n",
            "_________________________________________________________________\n",
            "block4_conv4 (Conv2D)        (None, 28, 28, 512)       2359808   \n",
            "_________________________________________________________________\n",
            "block4_pool (MaxPooling2D)   (None, 14, 14, 512)       0         \n",
            "_________________________________________________________________\n",
            "block5_conv1 (Conv2D)        (None, 14, 14, 512)       2359808   \n",
            "_________________________________________________________________\n",
            "block5_conv2 (Conv2D)        (None, 14, 14, 512)       2359808   \n",
            "_________________________________________________________________\n",
            "block5_conv3 (Conv2D)        (None, 14, 14, 512)       2359808   \n",
            "_________________________________________________________________\n",
            "block5_conv4 (Conv2D)        (None, 14, 14, 512)       2359808   \n",
            "_________________________________________________________________\n",
            "block5_pool (MaxPooling2D)   (None, 7, 7, 512)         0         \n",
            "_________________________________________________________________\n",
            "flatten (Flatten)            (None, 25088)             0         \n",
            "_________________________________________________________________\n",
            "fc1 (Dense)                  (None, 4096)              102764544 \n",
            "_________________________________________________________________\n",
            "fc2 (Dense)                  (None, 4096)              16781312  \n",
            "_________________________________________________________________\n",
            "output (Dense)               (None, 1)                 4097      \n",
            "=================================================================\n",
            "Total params: 139,574,337\n",
            "Trainable params: 4,097\n",
            "Non-trainable params: 139,570,240\n",
            "_________________________________________________________________\n"
          ],
          "name": "stdout"
        }
      ]
    },
    {
      "cell_type": "code",
      "metadata": {
        "id": "kWroPy2NpmWP",
        "colab_type": "code",
        "colab": {}
      },
      "source": [
        "\n",
        "custom_vgg_model.compile(loss='binary_crossentropy',\n",
        "              optimizer='adam',\n",
        "              metrics=['acc'])"
      ],
      "execution_count": 0,
      "outputs": []
    },
    {
      "cell_type": "code",
      "metadata": {
        "id": "FwTYNHq74dQz",
        "colab_type": "code",
        "colab": {}
      },
      "source": [
        "from tensorflow.keras.callbacks import EarlyStopping, ModelCheckpoint\n",
        "my_callbacks = [\n",
        "    EarlyStopping(monitor=\"val_loss\", patience=3),\n",
        "    ModelCheckpoint(filepath='vgg16_model.h5', save_best_only=True),\n",
        "]"
      ],
      "execution_count": 0,
      "outputs": []
    },
    {
      "cell_type": "code",
      "metadata": {
        "id": "7a665T8ZpzhY",
        "colab_type": "code",
        "outputId": "50a3ad7b-8a5b-4aa2-a73c-dda0c976a3a6",
        "colab": {
          "base_uri": "https://localhost:8080/",
          "height": 777
        }
      },
      "source": [
        "history = custom_vgg_model.fit(train_generator,\n",
        "                              steps_per_epoch=100,\n",
        "                              epochs=20,\n",
        "                              validation_data=validation_generator,\n",
        "                              validation_steps=10,\n",
        "                              callbacks=my_callbacks)"
      ],
      "execution_count": 17,
      "outputs": [
        {
          "output_type": "stream",
          "text": [
            "Epoch 1/20\n",
            "100/100 [==============================] - 79s 791ms/step - loss: 0.6233 - acc: 0.6664 - val_loss: 0.5636 - val_acc: 0.7100\n",
            "Epoch 2/20\n",
            "100/100 [==============================] - 83s 832ms/step - loss: 0.5299 - acc: 0.7697 - val_loss: 0.5169 - val_acc: 0.7800\n",
            "Epoch 3/20\n",
            "100/100 [==============================] - 82s 824ms/step - loss: 0.4977 - acc: 0.7858 - val_loss: 0.5087 - val_acc: 0.7800\n",
            "Epoch 4/20\n",
            "100/100 [==============================] - 81s 807ms/step - loss: 0.4642 - acc: 0.8144 - val_loss: 0.4859 - val_acc: 0.8000\n",
            "Epoch 5/20\n",
            "100/100 [==============================] - 80s 796ms/step - loss: 0.4423 - acc: 0.8279 - val_loss: 0.4944 - val_acc: 0.7600\n",
            "Epoch 6/20\n",
            "100/100 [==============================] - 81s 808ms/step - loss: 0.4282 - acc: 0.8312 - val_loss: 0.4706 - val_acc: 0.7700\n",
            "Epoch 7/20\n",
            "100/100 [==============================] - 79s 790ms/step - loss: 0.4110 - acc: 0.8428 - val_loss: 0.4753 - val_acc: 0.8000\n",
            "Epoch 8/20\n",
            "100/100 [==============================] - 79s 787ms/step - loss: 0.4003 - acc: 0.8438 - val_loss: 0.4883 - val_acc: 0.7700\n",
            "Epoch 9/20\n",
            "100/100 [==============================] - 80s 804ms/step - loss: 0.3891 - acc: 0.8487 - val_loss: 0.4545 - val_acc: 0.7800\n",
            "Epoch 10/20\n",
            "100/100 [==============================] - 79s 790ms/step - loss: 0.3855 - acc: 0.8459 - val_loss: 0.4709 - val_acc: 0.7800\n",
            "Epoch 11/20\n",
            "100/100 [==============================] - 80s 804ms/step - loss: 0.3662 - acc: 0.8590 - val_loss: 0.4506 - val_acc: 0.7800\n",
            "Epoch 12/20\n",
            "100/100 [==============================] - 79s 787ms/step - loss: 0.3578 - acc: 0.8630 - val_loss: 0.4509 - val_acc: 0.8000\n",
            "Epoch 13/20\n",
            "100/100 [==============================] - 81s 808ms/step - loss: 0.3515 - acc: 0.8642 - val_loss: 0.4451 - val_acc: 0.7700\n",
            "Epoch 14/20\n",
            "100/100 [==============================] - 79s 793ms/step - loss: 0.3419 - acc: 0.8676 - val_loss: 0.4470 - val_acc: 0.7800\n",
            "Epoch 15/20\n",
            "100/100 [==============================] - 80s 797ms/step - loss: 0.3366 - acc: 0.8700 - val_loss: 0.4508 - val_acc: 0.8200\n",
            "Epoch 16/20\n",
            "100/100 [==============================] - 81s 808ms/step - loss: 0.3283 - acc: 0.8760 - val_loss: 0.4421 - val_acc: 0.7900\n",
            "Epoch 17/20\n",
            "100/100 [==============================] - 81s 811ms/step - loss: 0.3226 - acc: 0.8766 - val_loss: 0.4417 - val_acc: 0.7900\n",
            "Epoch 18/20\n",
            "100/100 [==============================] - 80s 796ms/step - loss: 0.3230 - acc: 0.8779 - val_loss: 0.4533 - val_acc: 0.8100\n",
            "Epoch 19/20\n",
            "100/100 [==============================] - 79s 791ms/step - loss: 0.3111 - acc: 0.8810 - val_loss: 0.4598 - val_acc: 0.8000\n",
            "Epoch 20/20\n",
            "100/100 [==============================] - 79s 791ms/step - loss: 0.3033 - acc: 0.8868 - val_loss: 0.4420 - val_acc: 0.8100\n"
          ],
          "name": "stdout"
        }
      ]
    },
    {
      "cell_type": "code",
      "metadata": {
        "id": "aogo68Tvp4GT",
        "colab_type": "code",
        "colab": {}
      },
      "source": [
        "   "
      ],
      "execution_count": 0,
      "outputs": []
    },
    {
      "cell_type": "code",
      "metadata": {
        "id": "gXdnkbOrsLcK",
        "colab_type": "code",
        "colab": {
          "base_uri": "https://localhost:8080/",
          "height": 545
        },
        "outputId": "798ef2a0-ab7e-4632-f718-4a42bc3b3548"
      },
      "source": [
        "import matplotlib.pyplot as plt\n",
        "\n",
        "acc = history.history['acc']\n",
        "val_acc = history.history['val_acc']\n",
        "loss = history.history['loss']\n",
        "val_loss = history.history['val_loss']\n",
        "\n",
        "epochs = range(1, len(acc) + 1)\n",
        "\n",
        "plt.plot(epochs, acc, 'bo', label='Training acc')\n",
        "plt.plot(epochs, val_acc, 'b', label='Validation acc')\n",
        "plt.title('Training and validation accuracy')\n",
        "plt.legend()\n",
        "\n",
        "plt.figure()\n",
        "\n",
        "plt.plot(epochs, loss, 'bo', label='Training loss')\n",
        "plt.plot(epochs, val_loss, 'b', label='Validation loss')\n",
        "plt.title('Training and validation loss')\n",
        "plt.legend()\n",
        "\n",
        "plt.show()\n"
      ],
      "execution_count": 18,
      "outputs": [
        {
          "output_type": "display_data",
          "data": {
            "image/png": "[encoded data removed]",
            "text/plain": [
              "<Figure size 432x288 with 1 Axes>"
            ]
          },
          "metadata": {
            "tags": [],
            "needs_background": "light"
          }
        },
        {
          "output_type": "display_data",
          "data": {
            "image/png": "[encoded data removed]",
            "text/plain": [
              "<Figure size 432x288 with 1 Axes>"
            ]
          },
          "metadata": {
            "tags": [],
            "needs_background": "light"
          }
        }
      ]
    },
    {
      "cell_type": "code",
      "metadata": {
        "id": "d7-3F49u1i0a",
        "colab_type": "code",
        "colab": {
          "base_uri": "https://localhost:8080/",
          "height": 131
        },
        "outputId": "55752fb7-bcb3-4bd8-9a42-e307c310f96a"
      },
      "source": [
        "##EVALUATION\n",
        "from sklearn.metrics import accuracy_score\n",
        "\n",
        "## Test Accuracy\n",
        "y_true = test_generator.classes\n",
        "predictions = custom_vgg_model.predict(test_generator, steps=1 )\n",
        "y_pred = predictions > 0.5\n",
        "test_acc = accuracy_score(y_true, y_pred)\n",
        "\n",
        "from sklearn.metrics import precision_recall_fscore_support\n",
        "\n",
        "precision, recall, f1score, _ = precision_recall_fscore_support(y_true, y_pred, average='binary')\n",
        "\n",
        "print(\"Train Accuracy:\\t\", acc[-1])\n",
        "print(\"Val Accuracy:\\t\", val_acc[-1])\n",
        "print(\"Test Accuracy:\\t\", test_acc)\n",
        "print(\"Precision:\\t\", precision)\n",
        "print(\"Recall:\\t\\t\", recall)\n",
        "print(\"F1 Score:\\t\", f1score)\n"
      ],
      "execution_count": 19,
      "outputs": [
        {
          "output_type": "stream",
          "text": [
            "Train Accuracy:\t 0.8867999911308289\n",
            "Val Accuracy:\t 0.8100000023841858\n",
            "Test Accuracy:\t 0.4791666666666667\n",
            "Precision:\t 0.4782608695652174\n",
            "Recall:\t\t 0.4583333333333333\n",
            "F1 Score:\t 0.4680851063829787\n"
          ],
          "name": "stdout"
        }
      ]
    },
    {
      "cell_type": "code",
      "metadata": {
        "id": "RhPwTOFoOlcI",
        "colab_type": "code",
        "colab": {}
      },
      "source": [
        ""
      ],
      "execution_count": 0,
      "outputs": []
    }
  ]
}